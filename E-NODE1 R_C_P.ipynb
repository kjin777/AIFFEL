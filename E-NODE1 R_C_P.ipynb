{
 "cells": [
  {
   "cell_type": "markdown",
   "metadata": {},
   "source": [
    "# 가위바위보 분류기 만들기"
   ]
  },
  {
   "cell_type": "markdown",
   "metadata": {},
   "source": [
    "## 데이터 불러오기 + Resize하기"
   ]
  },
  {
   "cell_type": "code",
   "execution_count": 1,
   "metadata": {},
   "outputs": [
    {
     "name": "stdout",
     "output_type": "stream",
     "text": [
      "Requirement already satisfied: pillow in /home/ssac26/anaconda3/envs/aiffel/lib/python3.7/site-packages (8.0.1)\n",
      "import 완료\n"
     ]
    }
   ],
   "source": [
    "# 224*224 to 28*28\n",
    "!pip install pillow\n",
    "from PIL import Image\n",
    "import os, glob\n",
    "import random\n",
    "\n",
    "print('import 완료')"
   ]
  },
  {
   "cell_type": "markdown",
   "metadata": {},
   "source": [
    "* 가위, 바위, 보 resize"
   ]
  },
  {
   "cell_type": "code",
   "execution_count": 2,
   "metadata": {},
   "outputs": [
    {
     "data": {
      "text/plain": [
       "'/home/ssac26/ssac notebook'"
      ]
     },
     "execution_count": 2,
     "metadata": {},
     "output_type": "execute_result"
    }
   ],
   "source": [
    "pwd"
   ]
  },
  {
   "cell_type": "code",
   "execution_count": 3,
   "metadata": {},
   "outputs": [],
   "source": [
    "target_size = (28,28)"
   ]
  },
  {
   "cell_type": "code",
   "execution_count": 4,
   "metadata": {},
   "outputs": [
    {
     "name": "stdout",
     "output_type": "stream",
     "text": [
      "이미지 디렉토리 경로:  /home/ssac26/aiffel/rock_scissor_paper/scissor\n",
      "가위 이미지 resize 완료!\n"
     ]
    }
   ],
   "source": [
    "import os\n",
    "# 가위 이미지가 저장된 디렉토리 아래의 모든 jpg 파일을 읽어들여서\n",
    "image_dir_path = os.getenv(\"HOME\") + \"/aiffel/rock_scissor_paper/scissor\"\n",
    "print(\"이미지 디렉토리 경로: \", image_dir_path)\n",
    "\n",
    "images=glob.glob(image_dir_path + \"/*.jpg\")  \n",
    "\n",
    "# 파일마다 모두 28x28 사이즈로 바꾸어 저장합니다.\n",
    "target_size=(28,28)\n",
    "for img in images:\n",
    "    old_img=Image.open(img)\n",
    "    new_img=old_img.resize(target_size,Image.ANTIALIAS)\n",
    "    new_img.save(img,\"JPEG\")\n",
    "\n",
    "print(\"가위 이미지 resize 완료!\")"
   ]
  },
  {
   "cell_type": "code",
   "execution_count": 5,
   "metadata": {},
   "outputs": [
    {
     "name": "stdout",
     "output_type": "stream",
     "text": [
      "이미지 디렉토리 경로2 /home/ssac26/aiffel/rock_scissor_paper/rock\n",
      "바위이미지 resize완료\n"
     ]
    }
   ],
   "source": [
    "# 바위 이미지가 저장된 디렉토리 아래의 모든 jpg 파일을 읽어들여서\n",
    "# [[YOUR CODE]]\n",
    "\n",
    "# 파일마다 모두 28x28 사이즈로 바꾸어 저장합니다.\n",
    "# [[YOUR CODE]]\n",
    "image_dir_path2 = os.getenv('HOME')+\"/aiffel/rock_scissor_paper/rock\"\n",
    "print('이미지 디렉토리 경로2', image_dir_path2)\n",
    "\n",
    "images2 = glob.glob(image_dir_path2+\"/*.jpg\")\n",
    "\n",
    "for img in images2:\n",
    "    old_img = Image.open(img)\n",
    "    new_img = old_img.resize(target_size, Image.ANTIALIAS) #사이즈 변경\n",
    "    new_img.save(img,'JPEG')\n",
    "    \n",
    "print('바위이미지 resize완료')"
   ]
  },
  {
   "cell_type": "code",
   "execution_count": 6,
   "metadata": {},
   "outputs": [
    {
     "name": "stdout",
     "output_type": "stream",
     "text": [
      "이미지 디렉토리 경로3 /home/ssac26/aiffel/rock_scissor_paper/paper\n",
      "보 이미지 resize완료\n"
     ]
    }
   ],
   "source": [
    "# 보 이미지가 저장된 디렉토리 아래의 모든 jpg 파일을 읽어들여서\n",
    "# [[YOUR CODE]]\n",
    "\n",
    "# 파일마다 모두 28x28 사이즈로 바꾸어 저장합니다.\n",
    "# [[YOUR CODE]]\n",
    "image_dir_path3 = os.getenv('HOME')+\"/aiffel/rock_scissor_paper/paper\"\n",
    "print('이미지 디렉토리 경로3', image_dir_path3)\n",
    "\n",
    "images3 = glob.glob(image_dir_path3+\"/*.jpg\")\n",
    "\n",
    "for img in images3:\n",
    "    old_img = Image.open(img)\n",
    "    new_img = old_img.resize(target_size, Image.ANTIALIAS) #사이즈 변경\n",
    "    new_img.save(img,'JPEG')\n",
    "    \n",
    "print('보 이미지 resize완료')"
   ]
  },
  {
   "cell_type": "code",
   "execution_count": 7,
   "metadata": {},
   "outputs": [],
   "source": [
    "import numpy as np"
   ]
  },
  {
   "cell_type": "code",
   "execution_count": 8,
   "metadata": {},
   "outputs": [
    {
     "name": "stdout",
     "output_type": "stream",
     "text": [
      "학습데이터(x_train)의 이미지 개수는 3600 입니다.\n",
      "x_train shape: (3600, 28, 28, 3)\n",
      "y_train shape: (3600,)\n"
     ]
    }
   ],
   "source": [
    "## 데이터 읽어오기\n",
    "def load_data(img_path):\n",
    "    # 가위 : 0, 바위 : 1, 보 : 2\n",
    "    number_of_data= 3600   # 가위바위보 이미지 개수 총합에 주의하세요.\n",
    "    img_size=28\n",
    "    color=3\n",
    "    #이미지 데이터와 라벨(가위 : 0, 바위 : 1, 보 : 2) 데이터를 담을 행렬(matrix) 영역을 생성합니다.\n",
    "    imgs=np.zeros(number_of_data*img_size*img_size*color,dtype=np.int32).reshape(number_of_data,img_size,img_size,color)\n",
    "    labels=np.zeros(number_of_data,dtype=np.int32)\n",
    "\n",
    "    idx=0\n",
    "    for file in glob.iglob(img_path+'/scissor/*.jpg'):\n",
    "        img = np.array(Image.open(file),dtype=np.int32)\n",
    "        imgs[idx,:,:,:]=img    # 데이터 영역에 이미지 행렬을 복사\n",
    "        labels[idx]=0   # 가위 : 0\n",
    "        idx=idx+1\n",
    "\n",
    "    for file in glob.iglob(img_path+'/rock/*.jpg'):\n",
    "        img = np.array(Image.open(file),dtype=np.int32)\n",
    "        imgs[idx,:,:,:]=img    # 데이터 영역에 이미지 행렬을 복사\n",
    "        labels[idx]=1   # 바위 : 1\n",
    "        idx=idx+1       \n",
    "    \n",
    "    for file in glob.iglob(img_path+'/paper/*.jpg'):\n",
    "        img = np.array(Image.open(file),dtype=np.int32)\n",
    "        imgs[idx,:,:,:]=img    # 데이터 영역에 이미지 행렬을 복사\n",
    "        labels[idx]=2   # 보 : 2\n",
    "        idx=idx+1\n",
    "        \n",
    "    print(\"학습데이터(x_train)의 이미지 개수는\",idx,\"입니다.\")\n",
    "    return imgs, labels\n",
    "\n",
    "image_dir_path = os.getenv(\"HOME\") + \"/aiffel/rock_scissor_paper\"\n",
    "(x_train, y_train)=load_data(image_dir_path)\n",
    "x_train_norm = x_train/255.0   # 입력은 0~1 사이의 값으로 정규화\n",
    "\n",
    "print(\"x_train shape: {}\".format(x_train.shape))\n",
    "print(\"y_train shape: {}\".format(y_train.shape))"
   ]
  },
  {
   "cell_type": "code",
   "execution_count": 9,
   "metadata": {
    "scrolled": true
   },
   "outputs": [
    {
     "name": "stdout",
     "output_type": "stream",
     "text": [
      "라벨:  0\n"
     ]
    },
    {
     "data": {
      "image/png": "[encoded data removed]",
      "text/plain": [
       "<Figure size 432x288 with 1 Axes>"
      ]
     },
     "metadata": {
      "needs_background": "light"
     },
     "output_type": "display_data"
    }
   ],
   "source": [
    "import matplotlib.pyplot as plt\n",
    "plt.imshow(x_train_norm[0])\n",
    "print('라벨: ', y_train[0])"
   ]
  },
  {
   "cell_type": "code",
   "execution_count": 10,
   "metadata": {},
   "outputs": [],
   "source": [
    "## 딥러닝 네트워크 설계하기\n",
    "import tensorflow as tf\n",
    "from tensorflow import keras\n",
    "from tensorflow.keras import layers\n",
    "import numpy as np"
   ]
  },
  {
   "cell_type": "code",
   "execution_count": 11,
   "metadata": {},
   "outputs": [],
   "source": [
    "#  train_test_split 이용 train, validation, test셋 분리 (정규화된 데이터 사용)"
   ]
  },
  {
   "cell_type": "code",
   "execution_count": 12,
   "metadata": {},
   "outputs": [],
   "source": [
    "from sklearn.model_selection import train_test_split"
   ]
  },
  {
   "cell_type": "code",
   "execution_count": 13,
   "metadata": {},
   "outputs": [],
   "source": [
    "x_train1, x_val, y_train1, y_val = train_test_split(x_train_norm, y_train,  test_size=0.2, random_state=12)"
   ]
  },
  {
   "cell_type": "code",
   "execution_count": 14,
   "metadata": {},
   "outputs": [
    {
     "data": {
      "text/plain": [
       "((2880, 28, 28, 3), (720, 28, 28, 3), (2880,), (720,))"
      ]
     },
     "execution_count": 14,
     "metadata": {},
     "output_type": "execute_result"
    }
   ],
   "source": [
    "x_train1.shape, x_val.shape, y_train1.shape, y_val.shape"
   ]
  },
  {
   "cell_type": "code",
   "execution_count": 15,
   "metadata": {},
   "outputs": [],
   "source": [
    "x_train_real, x_test, y_train_real, y_test = train_test_split(x_train1, y_train1, test_size=0.2, random_state=12)"
   ]
  },
  {
   "cell_type": "code",
   "execution_count": 16,
   "metadata": {
    "scrolled": true
   },
   "outputs": [
    {
     "data": {
      "text/plain": [
       "((2304, 28, 28, 3), (2304,), (576, 28, 28, 3), (576,))"
      ]
     },
     "execution_count": 16,
     "metadata": {},
     "output_type": "execute_result"
    }
   ],
   "source": [
    "x_train_real.shape, y_train_real.shape, x_test.shape, y_test.shape"
   ]
  },
  {
   "cell_type": "markdown",
   "metadata": {},
   "source": [
    "* 3600개의 데이터 중  \n",
    "* 2304개의 train_real, 720개의 val, 576개의 test로 분리"
   ]
  },
  {
   "cell_type": "code",
   "execution_count": 40,
   "metadata": {},
   "outputs": [],
   "source": [
    "n_channel_1=24\n",
    "n_channel_2=16\n",
    "n_dense=12\n",
    "n_train_epoch=100\n",
    "\n",
    "model = tf.keras.models.Sequential()\n",
    "model.add(layers.Conv2D(n_channel_1,(3,3), activation='relu',input_shape=(28,28,3)))\n",
    "model.add(layers.MaxPool2D(2,2))\n",
    "model.add(layers.Dropout(0.2))\n",
    "model.add(layers.Conv2D(n_channel_2,(3,3), activation='relu'))\n",
    "model.add(layers.MaxPool2D(2,2))\n",
    "model.add(layers.Dropout(0.2))\n",
    "\n",
    "model.add(layers.Flatten())\n",
    "model.add(layers.Dense(n_dense, activation='relu'))\n",
    "\n",
    "model.add(layers.Dense(3, activation='softmax'))\n"
   ]
  },
  {
   "cell_type": "code",
   "execution_count": 41,
   "metadata": {
    "scrolled": true
   },
   "outputs": [
    {
     "name": "stdout",
     "output_type": "stream",
     "text": [
      "Model: \"sequential_4\"\n",
      "_________________________________________________________________\n",
      "Layer (type)                 Output Shape              Param #   \n",
      "=================================================================\n",
      "conv2d_8 (Conv2D)            (None, 26, 26, 24)        672       \n",
      "_________________________________________________________________\n",
      "max_pooling2d_8 (MaxPooling2 (None, 13, 13, 24)        0         \n",
      "_________________________________________________________________\n",
      "dropout_8 (Dropout)          (None, 13, 13, 24)        0         \n",
      "_________________________________________________________________\n",
      "conv2d_9 (Conv2D)            (None, 11, 11, 16)        3472      \n",
      "_________________________________________________________________\n",
      "max_pooling2d_9 (MaxPooling2 (None, 5, 5, 16)          0         \n",
      "_________________________________________________________________\n",
      "dropout_9 (Dropout)          (None, 5, 5, 16)          0         \n",
      "_________________________________________________________________\n",
      "flatten_4 (Flatten)          (None, 400)               0         \n",
      "_________________________________________________________________\n",
      "dense_8 (Dense)              (None, 12)                4812      \n",
      "_________________________________________________________________\n",
      "dense_9 (Dense)              (None, 3)                 39        \n",
      "=================================================================\n",
      "Total params: 8,995\n",
      "Trainable params: 8,995\n",
      "Non-trainable params: 0\n",
      "_________________________________________________________________\n"
     ]
    }
   ],
   "source": [
    "model.summary()"
   ]
  },
  {
   "cell_type": "code",
   "execution_count": 42,
   "metadata": {},
   "outputs": [],
   "source": [
    "model.compile(keras.optimizers.Adam(0.01), loss='sparse_categorical_crossentropy', metrics=['accuracy'])"
   ]
  },
  {
   "cell_type": "code",
   "execution_count": 43,
   "metadata": {},
   "outputs": [
    {
     "name": "stdout",
     "output_type": "stream",
     "text": [
      "Epoch 1/100\n",
      "72/72 [==============================] - 0s 4ms/step - loss: 1.0979 - accuracy: 0.3516 - val_loss: 1.0574 - val_accuracy: 0.4139\n",
      "Epoch 2/100\n",
      "72/72 [==============================] - 0s 3ms/step - loss: 1.0043 - accuracy: 0.4666 - val_loss: 0.9618 - val_accuracy: 0.5542\n",
      "Epoch 3/100\n",
      "72/72 [==============================] - 0s 3ms/step - loss: 0.8833 - accuracy: 0.5764 - val_loss: 0.8253 - val_accuracy: 0.6278\n",
      "Epoch 4/100\n",
      "72/72 [==============================] - 0s 3ms/step - loss: 0.7773 - accuracy: 0.6398 - val_loss: 0.7309 - val_accuracy: 0.6667\n",
      "Epoch 5/100\n",
      "72/72 [==============================] - 0s 3ms/step - loss: 0.6991 - accuracy: 0.6797 - val_loss: 0.5989 - val_accuracy: 0.7347\n",
      "Epoch 6/100\n",
      "72/72 [==============================] - 0s 2ms/step - loss: 0.6022 - accuracy: 0.7461 - val_loss: 0.6154 - val_accuracy: 0.7458\n",
      "Epoch 7/100\n",
      "72/72 [==============================] - 0s 3ms/step - loss: 0.5570 - accuracy: 0.7539 - val_loss: 0.5661 - val_accuracy: 0.7625\n",
      "Epoch 8/100\n",
      "72/72 [==============================] - 0s 3ms/step - loss: 0.5191 - accuracy: 0.7812 - val_loss: 0.4990 - val_accuracy: 0.8083\n",
      "Epoch 9/100\n",
      "72/72 [==============================] - 0s 3ms/step - loss: 0.4803 - accuracy: 0.7969 - val_loss: 0.4881 - val_accuracy: 0.8181\n",
      "Epoch 10/100\n",
      "72/72 [==============================] - 0s 3ms/step - loss: 0.4810 - accuracy: 0.7938 - val_loss: 0.4322 - val_accuracy: 0.8389\n",
      "Epoch 11/100\n",
      "72/72 [==============================] - 0s 3ms/step - loss: 0.3947 - accuracy: 0.8351 - val_loss: 0.3954 - val_accuracy: 0.8653\n",
      "Epoch 12/100\n",
      "72/72 [==============================] - 0s 3ms/step - loss: 0.4043 - accuracy: 0.8329 - val_loss: 0.4158 - val_accuracy: 0.8361\n",
      "Epoch 13/100\n",
      "72/72 [==============================] - 0s 3ms/step - loss: 0.4065 - accuracy: 0.8364 - val_loss: 0.3545 - val_accuracy: 0.8681\n",
      "Epoch 14/100\n",
      "72/72 [==============================] - 0s 3ms/step - loss: 0.3808 - accuracy: 0.8459 - val_loss: 0.3722 - val_accuracy: 0.8750\n",
      "Epoch 15/100\n",
      "72/72 [==============================] - 0s 3ms/step - loss: 0.3418 - accuracy: 0.8624 - val_loss: 0.3574 - val_accuracy: 0.8792\n",
      "Epoch 16/100\n",
      "72/72 [==============================] - 0s 3ms/step - loss: 0.3443 - accuracy: 0.8655 - val_loss: 0.3709 - val_accuracy: 0.8681\n",
      "Epoch 17/100\n",
      "72/72 [==============================] - 0s 3ms/step - loss: 0.3428 - accuracy: 0.8737 - val_loss: 0.3426 - val_accuracy: 0.8931\n",
      "Epoch 18/100\n",
      "72/72 [==============================] - 0s 3ms/step - loss: 0.3311 - accuracy: 0.8733 - val_loss: 0.3214 - val_accuracy: 0.9042\n",
      "Epoch 19/100\n",
      "72/72 [==============================] - 0s 3ms/step - loss: 0.3241 - accuracy: 0.8741 - val_loss: 0.3403 - val_accuracy: 0.8847\n",
      "Epoch 20/100\n",
      "72/72 [==============================] - 0s 3ms/step - loss: 0.3102 - accuracy: 0.8798 - val_loss: 0.2951 - val_accuracy: 0.9069\n",
      "Epoch 21/100\n",
      "72/72 [==============================] - 0s 3ms/step - loss: 0.2842 - accuracy: 0.8898 - val_loss: 0.3600 - val_accuracy: 0.8708\n",
      "Epoch 22/100\n",
      "72/72 [==============================] - 0s 3ms/step - loss: 0.3187 - accuracy: 0.8824 - val_loss: 0.2956 - val_accuracy: 0.9111\n",
      "Epoch 23/100\n",
      "72/72 [==============================] - 0s 3ms/step - loss: 0.3017 - accuracy: 0.8937 - val_loss: 0.2772 - val_accuracy: 0.8986\n",
      "Epoch 24/100\n",
      "72/72 [==============================] - 0s 3ms/step - loss: 0.2444 - accuracy: 0.9067 - val_loss: 0.2870 - val_accuracy: 0.9056\n",
      "Epoch 25/100\n",
      "72/72 [==============================] - 0s 3ms/step - loss: 0.2548 - accuracy: 0.9028 - val_loss: 0.2997 - val_accuracy: 0.9000\n",
      "Epoch 26/100\n",
      "72/72 [==============================] - 0s 3ms/step - loss: 0.2523 - accuracy: 0.9089 - val_loss: 0.2857 - val_accuracy: 0.9167\n",
      "Epoch 27/100\n",
      "72/72 [==============================] - 0s 3ms/step - loss: 0.3247 - accuracy: 0.8689 - val_loss: 0.3537 - val_accuracy: 0.8861\n",
      "Epoch 28/100\n",
      "72/72 [==============================] - 0s 3ms/step - loss: 0.3025 - accuracy: 0.8811 - val_loss: 0.3531 - val_accuracy: 0.8917\n",
      "Epoch 29/100\n",
      "72/72 [==============================] - 0s 3ms/step - loss: 0.2650 - accuracy: 0.8980 - val_loss: 0.2654 - val_accuracy: 0.9167\n",
      "Epoch 30/100\n",
      "72/72 [==============================] - 0s 3ms/step - loss: 0.2689 - accuracy: 0.9036 - val_loss: 0.2537 - val_accuracy: 0.9278\n",
      "Epoch 31/100\n",
      "72/72 [==============================] - 0s 3ms/step - loss: 0.2367 - accuracy: 0.9115 - val_loss: 0.2730 - val_accuracy: 0.9347\n",
      "Epoch 32/100\n",
      "72/72 [==============================] - 0s 3ms/step - loss: 0.2299 - accuracy: 0.9175 - val_loss: 0.2938 - val_accuracy: 0.9042\n",
      "Epoch 33/100\n",
      "72/72 [==============================] - 0s 3ms/step - loss: 0.2376 - accuracy: 0.9210 - val_loss: 0.2503 - val_accuracy: 0.9333\n",
      "Epoch 34/100\n",
      "72/72 [==============================] - 0s 3ms/step - loss: 0.2727 - accuracy: 0.9089 - val_loss: 0.2341 - val_accuracy: 0.9306\n",
      "Epoch 35/100\n",
      "72/72 [==============================] - 0s 3ms/step - loss: 0.2128 - accuracy: 0.9232 - val_loss: 0.2814 - val_accuracy: 0.9139\n",
      "Epoch 36/100\n",
      "72/72 [==============================] - 0s 3ms/step - loss: 0.2234 - accuracy: 0.9201 - val_loss: 0.2187 - val_accuracy: 0.9278\n",
      "Epoch 37/100\n",
      "72/72 [==============================] - 0s 3ms/step - loss: 0.2242 - accuracy: 0.9188 - val_loss: 0.2469 - val_accuracy: 0.9333\n",
      "Epoch 38/100\n",
      "72/72 [==============================] - 0s 3ms/step - loss: 0.2071 - accuracy: 0.9280 - val_loss: 0.2898 - val_accuracy: 0.9194\n",
      "Epoch 39/100\n",
      "72/72 [==============================] - 0s 3ms/step - loss: 0.2346 - accuracy: 0.9158 - val_loss: 0.2472 - val_accuracy: 0.9208\n",
      "Epoch 40/100\n",
      "72/72 [==============================] - 0s 3ms/step - loss: 0.1971 - accuracy: 0.9319 - val_loss: 0.2397 - val_accuracy: 0.9278\n",
      "Epoch 41/100\n",
      "72/72 [==============================] - 0s 3ms/step - loss: 0.2336 - accuracy: 0.9167 - val_loss: 0.2643 - val_accuracy: 0.9056\n",
      "Epoch 42/100\n",
      "72/72 [==============================] - 0s 3ms/step - loss: 0.2040 - accuracy: 0.9284 - val_loss: 0.2816 - val_accuracy: 0.9042\n",
      "Epoch 43/100\n",
      "72/72 [==============================] - 0s 3ms/step - loss: 0.1998 - accuracy: 0.9214 - val_loss: 0.2269 - val_accuracy: 0.9347\n",
      "Epoch 44/100\n",
      "72/72 [==============================] - 0s 3ms/step - loss: 0.2729 - accuracy: 0.9049 - val_loss: 0.2855 - val_accuracy: 0.8958\n",
      "Epoch 45/100\n",
      "72/72 [==============================] - 0s 3ms/step - loss: 0.2159 - accuracy: 0.9219 - val_loss: 0.2638 - val_accuracy: 0.9333\n",
      "Epoch 46/100\n",
      "72/72 [==============================] - 0s 3ms/step - loss: 0.1897 - accuracy: 0.9306 - val_loss: 0.2350 - val_accuracy: 0.9278\n",
      "Epoch 47/100\n",
      "72/72 [==============================] - 0s 3ms/step - loss: 0.1994 - accuracy: 0.9340 - val_loss: 0.2120 - val_accuracy: 0.9319\n",
      "Epoch 48/100\n",
      "72/72 [==============================] - 0s 3ms/step - loss: 0.1740 - accuracy: 0.9423 - val_loss: 0.2261 - val_accuracy: 0.9417\n",
      "Epoch 49/100\n",
      "72/72 [==============================] - 0s 3ms/step - loss: 0.1659 - accuracy: 0.9362 - val_loss: 0.2487 - val_accuracy: 0.9222\n",
      "Epoch 50/100\n",
      "72/72 [==============================] - 0s 3ms/step - loss: 0.2318 - accuracy: 0.9193 - val_loss: 0.2594 - val_accuracy: 0.9208\n",
      "Epoch 51/100\n",
      "72/72 [==============================] - 0s 3ms/step - loss: 0.2399 - accuracy: 0.9132 - val_loss: 0.2155 - val_accuracy: 0.9264\n",
      "Epoch 52/100\n",
      "72/72 [==============================] - 0s 3ms/step - loss: 0.2107 - accuracy: 0.9249 - val_loss: 0.2450 - val_accuracy: 0.9306\n",
      "Epoch 53/100\n",
      "72/72 [==============================] - 0s 3ms/step - loss: 0.2099 - accuracy: 0.9262 - val_loss: 0.2573 - val_accuracy: 0.9347\n",
      "Epoch 54/100\n",
      "72/72 [==============================] - 0s 3ms/step - loss: 0.1847 - accuracy: 0.9340 - val_loss: 0.2373 - val_accuracy: 0.9333\n",
      "Epoch 55/100\n",
      "72/72 [==============================] - 0s 2ms/step - loss: 0.2373 - accuracy: 0.9188 - val_loss: 0.2864 - val_accuracy: 0.9250\n",
      "Epoch 56/100\n",
      "72/72 [==============================] - 0s 3ms/step - loss: 0.1818 - accuracy: 0.9345 - val_loss: 0.2203 - val_accuracy: 0.9431\n",
      "Epoch 57/100\n",
      "72/72 [==============================] - 0s 3ms/step - loss: 0.1998 - accuracy: 0.9327 - val_loss: 0.2344 - val_accuracy: 0.9292\n",
      "Epoch 58/100\n",
      "72/72 [==============================] - 0s 3ms/step - loss: 0.1805 - accuracy: 0.9388 - val_loss: 0.2476 - val_accuracy: 0.9278\n"
     ]
    },
    {
     "name": "stdout",
     "output_type": "stream",
     "text": [
      "Epoch 59/100\n",
      "72/72 [==============================] - 0s 3ms/step - loss: 0.1681 - accuracy: 0.9440 - val_loss: 0.2185 - val_accuracy: 0.9444\n",
      "Epoch 60/100\n",
      "72/72 [==============================] - 0s 3ms/step - loss: 0.1667 - accuracy: 0.9392 - val_loss: 0.2300 - val_accuracy: 0.9333\n",
      "Epoch 61/100\n",
      "72/72 [==============================] - 0s 3ms/step - loss: 0.1630 - accuracy: 0.9479 - val_loss: 0.2353 - val_accuracy: 0.9375\n",
      "Epoch 62/100\n",
      "72/72 [==============================] - 0s 3ms/step - loss: 0.1635 - accuracy: 0.9466 - val_loss: 0.2227 - val_accuracy: 0.9347\n",
      "Epoch 63/100\n",
      "72/72 [==============================] - 0s 3ms/step - loss: 0.1579 - accuracy: 0.9436 - val_loss: 0.2118 - val_accuracy: 0.9361\n",
      "Epoch 64/100\n",
      "72/72 [==============================] - 0s 3ms/step - loss: 0.1692 - accuracy: 0.9457 - val_loss: 0.2279 - val_accuracy: 0.9333\n",
      "Epoch 65/100\n",
      "72/72 [==============================] - 0s 3ms/step - loss: 0.1443 - accuracy: 0.9431 - val_loss: 0.2075 - val_accuracy: 0.9292\n",
      "Epoch 66/100\n",
      "72/72 [==============================] - 0s 3ms/step - loss: 0.1902 - accuracy: 0.9366 - val_loss: 0.2415 - val_accuracy: 0.9403\n",
      "Epoch 67/100\n",
      "72/72 [==============================] - 0s 3ms/step - loss: 0.1932 - accuracy: 0.9293 - val_loss: 0.2619 - val_accuracy: 0.9306\n",
      "Epoch 68/100\n",
      "72/72 [==============================] - 0s 3ms/step - loss: 0.1699 - accuracy: 0.9405 - val_loss: 0.3109 - val_accuracy: 0.9153\n",
      "Epoch 69/100\n",
      "72/72 [==============================] - 0s 3ms/step - loss: 0.1929 - accuracy: 0.9371 - val_loss: 0.2847 - val_accuracy: 0.9222\n",
      "Epoch 70/100\n",
      "72/72 [==============================] - 0s 3ms/step - loss: 0.1940 - accuracy: 0.9340 - val_loss: 0.2272 - val_accuracy: 0.9431\n",
      "Epoch 71/100\n",
      "72/72 [==============================] - 0s 3ms/step - loss: 0.1531 - accuracy: 0.9492 - val_loss: 0.2186 - val_accuracy: 0.9403\n",
      "Epoch 72/100\n",
      "72/72 [==============================] - 0s 3ms/step - loss: 0.1581 - accuracy: 0.9527 - val_loss: 0.2359 - val_accuracy: 0.9250\n",
      "Epoch 73/100\n",
      "72/72 [==============================] - 0s 3ms/step - loss: 0.1816 - accuracy: 0.9358 - val_loss: 0.2215 - val_accuracy: 0.9333\n",
      "Epoch 74/100\n",
      "72/72 [==============================] - 0s 3ms/step - loss: 0.1761 - accuracy: 0.9384 - val_loss: 0.2065 - val_accuracy: 0.9403\n",
      "Epoch 75/100\n",
      "72/72 [==============================] - 0s 3ms/step - loss: 0.1449 - accuracy: 0.9523 - val_loss: 0.2043 - val_accuracy: 0.9486\n",
      "Epoch 76/100\n",
      "72/72 [==============================] - 0s 3ms/step - loss: 0.1520 - accuracy: 0.9488 - val_loss: 0.2711 - val_accuracy: 0.9292\n",
      "Epoch 77/100\n",
      "72/72 [==============================] - 0s 3ms/step - loss: 0.1462 - accuracy: 0.9479 - val_loss: 0.2304 - val_accuracy: 0.9333\n",
      "Epoch 78/100\n",
      "72/72 [==============================] - 0s 3ms/step - loss: 0.1531 - accuracy: 0.9518 - val_loss: 0.2493 - val_accuracy: 0.9181\n",
      "Epoch 79/100\n",
      "72/72 [==============================] - 0s 3ms/step - loss: 0.1566 - accuracy: 0.9436 - val_loss: 0.2053 - val_accuracy: 0.9403\n",
      "Epoch 80/100\n",
      "72/72 [==============================] - 0s 3ms/step - loss: 0.1638 - accuracy: 0.9457 - val_loss: 0.3089 - val_accuracy: 0.9333\n",
      "Epoch 81/100\n",
      "72/72 [==============================] - 0s 3ms/step - loss: 0.1477 - accuracy: 0.9479 - val_loss: 0.2144 - val_accuracy: 0.9389\n",
      "Epoch 82/100\n",
      "72/72 [==============================] - 0s 3ms/step - loss: 0.1536 - accuracy: 0.9466 - val_loss: 0.2119 - val_accuracy: 0.9347\n",
      "Epoch 83/100\n",
      "72/72 [==============================] - 0s 3ms/step - loss: 0.1695 - accuracy: 0.9440 - val_loss: 0.1947 - val_accuracy: 0.9361\n",
      "Epoch 84/100\n",
      "72/72 [==============================] - 0s 3ms/step - loss: 0.1640 - accuracy: 0.9410 - val_loss: 0.2035 - val_accuracy: 0.9375\n",
      "Epoch 85/100\n",
      "72/72 [==============================] - 0s 3ms/step - loss: 0.1580 - accuracy: 0.9484 - val_loss: 0.2492 - val_accuracy: 0.9264\n",
      "Epoch 86/100\n",
      "72/72 [==============================] - 0s 3ms/step - loss: 0.1678 - accuracy: 0.9414 - val_loss: 0.1795 - val_accuracy: 0.9403\n",
      "Epoch 87/100\n",
      "72/72 [==============================] - 0s 3ms/step - loss: 0.1808 - accuracy: 0.9392 - val_loss: 0.2023 - val_accuracy: 0.9458\n",
      "Epoch 88/100\n",
      "72/72 [==============================] - 0s 3ms/step - loss: 0.1334 - accuracy: 0.9562 - val_loss: 0.1823 - val_accuracy: 0.9458\n",
      "Epoch 89/100\n",
      "72/72 [==============================] - 0s 3ms/step - loss: 0.1561 - accuracy: 0.9444 - val_loss: 0.1856 - val_accuracy: 0.9375\n",
      "Epoch 90/100\n",
      "72/72 [==============================] - 0s 3ms/step - loss: 0.1662 - accuracy: 0.9410 - val_loss: 0.1965 - val_accuracy: 0.9361\n",
      "Epoch 91/100\n",
      "72/72 [==============================] - 0s 3ms/step - loss: 0.1620 - accuracy: 0.9449 - val_loss: 0.2065 - val_accuracy: 0.9236\n",
      "Epoch 92/100\n",
      "72/72 [==============================] - 0s 3ms/step - loss: 0.1579 - accuracy: 0.9470 - val_loss: 0.1734 - val_accuracy: 0.9431\n",
      "Epoch 93/100\n",
      "72/72 [==============================] - 0s 3ms/step - loss: 0.1596 - accuracy: 0.9518 - val_loss: 0.2047 - val_accuracy: 0.9333\n",
      "Epoch 94/100\n",
      "72/72 [==============================] - 0s 3ms/step - loss: 0.1607 - accuracy: 0.9497 - val_loss: 0.2364 - val_accuracy: 0.9139\n",
      "Epoch 95/100\n",
      "72/72 [==============================] - 0s 3ms/step - loss: 0.1855 - accuracy: 0.9397 - val_loss: 0.2336 - val_accuracy: 0.9319\n",
      "Epoch 96/100\n",
      "72/72 [==============================] - 0s 3ms/step - loss: 0.1419 - accuracy: 0.9488 - val_loss: 0.2458 - val_accuracy: 0.9278\n",
      "Epoch 97/100\n",
      "72/72 [==============================] - 0s 3ms/step - loss: 0.1421 - accuracy: 0.9553 - val_loss: 0.2152 - val_accuracy: 0.9250\n",
      "Epoch 98/100\n",
      "72/72 [==============================] - 0s 3ms/step - loss: 0.1438 - accuracy: 0.9479 - val_loss: 0.1605 - val_accuracy: 0.9417\n",
      "Epoch 99/100\n",
      "72/72 [==============================] - 0s 3ms/step - loss: 0.1641 - accuracy: 0.9410 - val_loss: 0.1939 - val_accuracy: 0.9306\n",
      "Epoch 100/100\n",
      "72/72 [==============================] - 0s 3ms/step - loss: 0.1332 - accuracy: 0.9531 - val_loss: 0.2086 - val_accuracy: 0.9319\n"
     ]
    },
    {
     "data": {
      "text/plain": [
       "<tensorflow.python.keras.callbacks.History at 0x7efedc752c10>"
      ]
     },
     "execution_count": 43,
     "metadata": {},
     "output_type": "execute_result"
    }
   ],
   "source": [
    "model.fit(x_train_real, y_train_real, epochs=n_train_epoch, validation_data = (x_val,y_val))"
   ]
  },
  {
   "cell_type": "markdown",
   "metadata": {},
   "source": [
    "## 잘 만들어졌는지 확인하기"
   ]
  },
  {
   "cell_type": "code",
   "execution_count": 21,
   "metadata": {},
   "outputs": [],
   "source": [
    "# ## test 데이터 읽어오기\n",
    "# def load_data(img_path):\n",
    "#     # 가위 : 0, 바위 : 1, 보 : 2\n",
    "#     number_of_data=300   # 가위바위보 이미지 개수 총합에 주의하세요.\n",
    "#     img_size=28\n",
    "#     color=3\n",
    "#     #이미지 데이터와 라벨(가위 : 0, 바위 : 1, 보 : 2) 데이터를 담을 행렬(matrix) 영역을 생성합니다.\n",
    "#     imgs=np.zeros(number_of_data*img_size*img_size*color,dtype=np.int32).reshape(number_of_data,img_size,img_size,color)\n",
    "#     labels=np.zeros(number_of_data,dtype=np.int32)\n",
    "\n",
    "#     idx=0\n",
    "#     for file in glob.iglob(img_path+'/scissor/*.jpg'):\n",
    "#         img = np.array(Image.open(file),dtype=np.int32)\n",
    "#         imgs[idx,:,:,:]=img    # 데이터 영역에 이미지 행렬을 복사\n",
    "#         labels[idx]=0   # 가위 : 0\n",
    "#         idx=idx+1\n",
    "\n",
    "#     for file in glob.iglob(img_path+'/rock/*.jpg'):\n",
    "#         img = np.array(Image.open(file),dtype=np.int32)\n",
    "#         imgs[idx,:,:,:]=img    # 데이터 영역에 이미지 행렬을 복사\n",
    "#         labels[idx]=1   # 바위 : 1\n",
    "#         idx=idx+1       \n",
    "    \n",
    "#     for file in glob.iglob(img_path+'/paper/*.jpg'):\n",
    "#         img = np.array(Image.open(file),dtype=np.int32)\n",
    "#         imgs[idx,:,:,:]=img    # 데이터 영역에 이미지 행렬을 복사\n",
    "#         labels[idx]=2   # 보 : 2\n",
    "#         idx=idx+1\n",
    "        \n",
    "#     print(\"평가데이터(x_test)의 이미지 개수는\",idx,\"입니다.\")\n",
    "#     return imgs, labels\n",
    "\n",
    "# image_dir_path = os.getenv(\"HOME\") + \"/aiffel/rock_scissor_paper2\"\n",
    "# (x_test, y_test)=load_data(image_dir_path)\n",
    "# x_test_norm = x_test/255.0   # 입력은 0~1 사이의 값으로 정규화\n",
    "\n",
    "# print(\"x_test.shape: {}\".format(x_test.shape))\n",
    "# print(\"y_test.shape: {}\".format(y_test.shape))"
   ]
  },
  {
   "cell_type": "code",
   "execution_count": 44,
   "metadata": {},
   "outputs": [
    {
     "name": "stdout",
     "output_type": "stream",
     "text": [
      "18/18 - 0s - loss: 0.2039 - accuracy: 0.9497\n",
      "test_loss: 0.20386618375778198 \n",
      "test_accuracy: 0.9496527910232544\n"
     ]
    }
   ],
   "source": [
    "test_loss, test_accuracy = model.evaluate(x_test,y_test, verbose=2)\n",
    "print(\"test_loss: {} \".format(test_loss))\n",
    "print(\"test_accuracy: {}\".format(test_accuracy))"
   ]
  },
  {
   "cell_type": "code",
   "execution_count": 23,
   "metadata": {},
   "outputs": [],
   "source": [
    "predicted_result = model.predict(x_test)\n",
    "predicted_labels = np.argmax(predicted_result, axis=1)"
   ]
  },
  {
   "cell_type": "code",
   "execution_count": 24,
   "metadata": {},
   "outputs": [
    {
     "name": "stdout",
     "output_type": "stream",
     "text": [
      "예측확률분포[0.42853138 0.17040904 0.40105966]\n",
      "라벨1,예측결과0\n"
     ]
    },
    {
     "data": {
      "image/png": "[encoded data removed]",
      "text/plain": [
       "<Figure size 432x288 with 1 Axes>"
      ]
     },
     "metadata": {
      "needs_background": "light"
     },
     "output_type": "display_data"
    },
    {
     "name": "stdout",
     "output_type": "stream",
     "text": [
      "예측확률분포[0.37199283 0.18241751 0.44558963]\n",
      "라벨1,예측결과2\n"
     ]
    },
    {
     "data": {
      "image/png": "[encoded data removed]",
      "text/plain": [
       "<Figure size 432x288 with 1 Axes>"
      ]
     },
     "metadata": {
      "needs_background": "light"
     },
     "output_type": "display_data"
    },
    {
     "name": "stdout",
     "output_type": "stream",
     "text": [
      "예측확률분포[1.6660866e-01 1.1376967e-06 8.3339018e-01]\n",
      "라벨0,예측결과2\n"
     ]
    },
    {
     "data": {
      "image/png": "[encoded data removed]",
      "text/plain": [
       "<Figure size 432x288 with 1 Axes>"
      ]
     },
     "metadata": {
      "needs_background": "light"
     },
     "output_type": "display_data"
    },
    {
     "name": "stdout",
     "output_type": "stream",
     "text": [
      "예측확률분포[0.23113412 0.31286445 0.45600143]\n",
      "라벨1,예측결과2\n"
     ]
    },
    {
     "data": {
      "image/png": "[encoded data removed]",
      "text/plain": [
       "<Figure size 432x288 with 1 Axes>"
      ]
     },
     "metadata": {
      "needs_background": "light"
     },
     "output_type": "display_data"
    },
    {
     "name": "stdout",
     "output_type": "stream",
     "text": [
      "예측확률분포[0.3886417  0.603413   0.00794533]\n",
      "라벨0,예측결과1\n"
     ]
    },
    {
     "data": {
      "image/png": "[encoded data removed]",
      "text/plain": [
       "<Figure size 432x288 with 1 Axes>"
      ]
     },
     "metadata": {
      "needs_background": "light"
     },
     "output_type": "display_data"
    },
    {
     "name": "stdout",
     "output_type": "stream",
     "text": [
      "예측확률분포[0.86014533 0.01314323 0.12671137]\n",
      "라벨2,예측결과0\n"
     ]
    },
    {
     "data": {
      "image/png": "[encoded data removed]",
      "text/plain": [
       "<Figure size 432x288 with 1 Axes>"
      ]
     },
     "metadata": {
      "needs_background": "light"
     },
     "output_type": "display_data"
    },
    {
     "name": "stdout",
     "output_type": "stream",
     "text": [
      "예측확률분포[0.17631392 0.09301636 0.73066974]\n",
      "라벨0,예측결과2\n"
     ]
    },
    {
     "data": {
      "image/png": "[encoded data removed]",
      "text/plain": [
       "<Figure size 432x288 with 1 Axes>"
      ]
     },
     "metadata": {
      "needs_background": "light"
     },
     "output_type": "display_data"
    },
    {
     "name": "stdout",
     "output_type": "stream",
     "text": [
      "예측확률분포[0.13841306 0.06489282 0.79669416]\n",
      "라벨0,예측결과2\n"
     ]
    },
    {
     "data": {
      "image/png": "[encoded data removed]",
      "text/plain": [
       "<Figure size 432x288 with 1 Axes>"
      ]
     },
     "metadata": {
      "needs_background": "light"
     },
     "output_type": "display_data"
    },
    {
     "name": "stdout",
     "output_type": "stream",
     "text": [
      "예측확률분포[0.27022645 0.31979474 0.40997884]\n",
      "라벨1,예측결과2\n"
     ]
    },
    {
     "data": {
      "image/png": "[encoded data removed]",
      "text/plain": [
       "<Figure size 432x288 with 1 Axes>"
      ]
     },
     "metadata": {
      "needs_background": "light"
     },
     "output_type": "display_data"
    },
    {
     "name": "stdout",
     "output_type": "stream",
     "text": [
      "예측확률분포[0.3560372  0.39465684 0.249306  ]\n",
      "라벨0,예측결과1\n"
     ]
    },
    {
     "data": {
      "image/png": "[encoded data removed]",
      "text/plain": [
       "<Figure size 432x288 with 1 Axes>"
      ]
     },
     "metadata": {
      "needs_background": "light"
     },
     "output_type": "display_data"
    }
   ],
   "source": [
    "import random\n",
    "wrong_predict_list=[]\n",
    "for i, _ in enumerate(predicted_labels):\n",
    "    # i번째 test_labels와 y_test가 다른경우만\n",
    "    if predicted_labels[i] != y_test[i]:\n",
    "        wrong_predict_list.append(i)\n",
    "        \n",
    "# wrong에서 랜덤하게 5개만 뽑기\n",
    "samples = random.choices(population=wrong_predict_list, k=10)\n",
    "\n",
    "for n in samples:\n",
    "    print('예측확률분포'+str(predicted_result[n]))\n",
    "    print('라벨'+str(y_test[n])+\",예측결과\"+str(predicted_labels[n]))\n",
    "    plt.imshow(x_test[n], cmap=plt.cm.binary)\n",
    "    plt.show()"
   ]
  },
  {
   "cell_type": "code",
   "execution_count": 25,
   "metadata": {},
   "outputs": [],
   "source": [
    "# # 데이터 추가\n",
    "# # 100-199등 파일 명을 폴더 단위로 바꾸기\n",
    "# import os\n",
    "# i =400    # 해당 인덱스부터 차레대로 이름 지정\n",
    "# file_path = os.getenv(\"HOME\")+\"/Downloads/rps/scissors\"\n",
    "# #  예시 : /home/ssac27/aiffel/rock_scissor_paper/paper\"\n",
    "# file_name = os.listdir(file_path)\n",
    "\n",
    "# for idx, name in enumerate(file_name) :\n",
    "#     src = os.path.join(file_path, name)\n",
    "#     new_name = os.path.join(file_path, str(i+idx) +'.jpg')\n",
    "#     os.rename(src, new_name)\n",
    "# # 해당  코드에서 path 부분과 i 부분을 원하는 걸로 바꾸시고 사용하면 폴더 단위로 파일 명이 숫자 순서대로  바뀝니다.\n"
   ]
  },
  {
   "cell_type": "code",
   "execution_count": null,
   "metadata": {},
   "outputs": [],
   "source": []
  }
 ],
 "metadata": {
  "kernelspec": {
   "display_name": "Python 3",
   "language": "python",
   "name": "python3"
  },
  "language_info": {
   "codemirror_mode": {
    "name": "ipython",
    "version": 3
   },
   "file_extension": ".py",
   "mimetype": "text/x-python",
   "name": "python",
   "nbconvert_exporter": "python",
   "pygments_lexer": "ipython3",
   "version": "3.7.9"
  }
 },
 "nbformat": 4,
 "nbformat_minor": 4
}
