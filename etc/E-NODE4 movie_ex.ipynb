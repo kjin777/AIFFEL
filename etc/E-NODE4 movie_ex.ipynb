{
 "cells": [
  {
   "cell_type": "markdown",
   "metadata": {},
   "source": [
    "# 네이버 영화리뷰 감성분석"
   ]
  },
  {
   "cell_type": "markdown",
   "metadata": {},
   "source": [
    "## (1) 데이터 준비와 확인"
   ]
  },
  {
   "cell_type": "code",
   "execution_count": 1,
   "metadata": {},
   "outputs": [],
   "source": [
    "import pandas as pd\n",
    "import urllib.request\n",
    "import re\n",
    "from konlpy.tag import Okt\n",
    "from tensorflow import keras\n",
    "from tensorflow.keras.preprocessing.text import Tokenizer\n",
    "import numpy as np\n",
    "from tensorflow.keras.preprocessing.sequence import pad_sequences\n",
    "from collections import Counter\n",
    "\n",
    "import matplotlib.pyplot as plt\n",
    "%matplotlib inline"
   ]
  },
  {
   "cell_type": "code",
   "execution_count": 2,
   "metadata": {
    "scrolled": false
   },
   "outputs": [
    {
     "data": {
      "text/html": [
       "<div>\n",
       "<style scoped>\n",
       "    .dataframe tbody tr th:only-of-type {\n",
       "        vertical-align: middle;\n",
       "    }\n",
       "\n",
       "    .dataframe tbody tr th {\n",
       "        vertical-align: top;\n",
       "    }\n",
       "\n",
       "    .dataframe thead th {\n",
       "        text-align: right;\n",
       "    }\n",
       "</style>\n",
       "<table border=\"1\" class=\"dataframe\">\n",
       "  <thead>\n",
       "    <tr style=\"text-align: right;\">\n",
       "      <th></th>\n",
       "      <th>id</th>\n",
       "      <th>document</th>\n",
       "      <th>label</th>\n",
       "    </tr>\n",
       "  </thead>\n",
       "  <tbody>\n",
       "    <tr>\n",
       "      <th>0</th>\n",
       "      <td>9976970</td>\n",
       "      <td>아 더빙.. 진짜 짜증나네요 목소리</td>\n",
       "      <td>0</td>\n",
       "    </tr>\n",
       "    <tr>\n",
       "      <th>1</th>\n",
       "      <td>3819312</td>\n",
       "      <td>흠...포스터보고 초딩영화줄....오버연기조차 가볍지 않구나</td>\n",
       "      <td>1</td>\n",
       "    </tr>\n",
       "    <tr>\n",
       "      <th>2</th>\n",
       "      <td>10265843</td>\n",
       "      <td>너무재밓었다그래서보는것을추천한다</td>\n",
       "      <td>0</td>\n",
       "    </tr>\n",
       "    <tr>\n",
       "      <th>3</th>\n",
       "      <td>9045019</td>\n",
       "      <td>교도소 이야기구먼 ..솔직히 재미는 없다..평점 조정</td>\n",
       "      <td>0</td>\n",
       "    </tr>\n",
       "    <tr>\n",
       "      <th>4</th>\n",
       "      <td>6483659</td>\n",
       "      <td>사이몬페그의 익살스런 연기가 돋보였던 영화!스파이더맨에서 늙어보이기만 했던 커스틴 ...</td>\n",
       "      <td>1</td>\n",
       "    </tr>\n",
       "  </tbody>\n",
       "</table>\n",
       "</div>"
      ],
      "text/plain": [
       "         id                                           document  label\n",
       "0   9976970                                아 더빙.. 진짜 짜증나네요 목소리      0\n",
       "1   3819312                  흠...포스터보고 초딩영화줄....오버연기조차 가볍지 않구나      1\n",
       "2  10265843                                  너무재밓었다그래서보는것을추천한다      0\n",
       "3   9045019                      교도소 이야기구먼 ..솔직히 재미는 없다..평점 조정      0\n",
       "4   6483659  사이몬페그의 익살스런 연기가 돋보였던 영화!스파이더맨에서 늙어보이기만 했던 커스틴 ...      1"
      ]
     },
     "execution_count": 2,
     "metadata": {},
     "output_type": "execute_result"
    }
   ],
   "source": [
    "# 데이터를 읽어봅시다. \n",
    "train_data = pd.read_table('~/aiffel/sentiment_classification/ratings_train.txt')\n",
    "test_data = pd.read_table('~/aiffel/sentiment_classification/ratings_test.txt')\n",
    "\n",
    "train_data.head()"
   ]
  },
  {
   "cell_type": "code",
   "execution_count": 3,
   "metadata": {},
   "outputs": [
    {
     "data": {
      "text/html": [
       "<div>\n",
       "<style scoped>\n",
       "    .dataframe tbody tr th:only-of-type {\n",
       "        vertical-align: middle;\n",
       "    }\n",
       "\n",
       "    .dataframe tbody tr th {\n",
       "        vertical-align: top;\n",
       "    }\n",
       "\n",
       "    .dataframe thead th {\n",
       "        text-align: right;\n",
       "    }\n",
       "</style>\n",
       "<table border=\"1\" class=\"dataframe\">\n",
       "  <thead>\n",
       "    <tr style=\"text-align: right;\">\n",
       "      <th></th>\n",
       "      <th>id</th>\n",
       "      <th>document</th>\n",
       "      <th>label</th>\n",
       "    </tr>\n",
       "  </thead>\n",
       "  <tbody>\n",
       "    <tr>\n",
       "      <th>149995</th>\n",
       "      <td>6222902</td>\n",
       "      <td>인간이 문제지.. 소는 뭔죄인가..</td>\n",
       "      <td>0</td>\n",
       "    </tr>\n",
       "    <tr>\n",
       "      <th>149996</th>\n",
       "      <td>8549745</td>\n",
       "      <td>평점이 너무 낮아서...</td>\n",
       "      <td>1</td>\n",
       "    </tr>\n",
       "    <tr>\n",
       "      <th>149997</th>\n",
       "      <td>9311800</td>\n",
       "      <td>이게 뭐요? 한국인은 거들먹거리고 필리핀 혼혈은 착하다?</td>\n",
       "      <td>0</td>\n",
       "    </tr>\n",
       "    <tr>\n",
       "      <th>149998</th>\n",
       "      <td>2376369</td>\n",
       "      <td>청춘 영화의 최고봉.방황과 우울했던 날들의 자화상</td>\n",
       "      <td>1</td>\n",
       "    </tr>\n",
       "    <tr>\n",
       "      <th>149999</th>\n",
       "      <td>9619869</td>\n",
       "      <td>한국 영화 최초로 수간하는 내용이 담긴 영화</td>\n",
       "      <td>0</td>\n",
       "    </tr>\n",
       "  </tbody>\n",
       "</table>\n",
       "</div>"
      ],
      "text/plain": [
       "             id                         document  label\n",
       "149995  6222902              인간이 문제지.. 소는 뭔죄인가..      0\n",
       "149996  8549745                    평점이 너무 낮아서...      1\n",
       "149997  9311800  이게 뭐요? 한국인은 거들먹거리고 필리핀 혼혈은 착하다?      0\n",
       "149998  2376369      청춘 영화의 최고봉.방황과 우울했던 날들의 자화상      1\n",
       "149999  9619869         한국 영화 최초로 수간하는 내용이 담긴 영화      0"
      ]
     },
     "execution_count": 3,
     "metadata": {},
     "output_type": "execute_result"
    }
   ],
   "source": [
    "train_data.tail()"
   ]
  },
  {
   "cell_type": "code",
   "execution_count": 4,
   "metadata": {
    "scrolled": true
   },
   "outputs": [
    {
     "name": "stdout",
     "output_type": "stream",
     "text": [
      "<class 'pandas.core.frame.DataFrame'>\n",
      "RangeIndex: 150000 entries, 0 to 149999\n",
      "Data columns (total 3 columns):\n",
      " #   Column    Non-Null Count   Dtype \n",
      "---  ------    --------------   ----- \n",
      " 0   id        150000 non-null  int64 \n",
      " 1   document  149995 non-null  object\n",
      " 2   label     150000 non-null  int64 \n",
      "dtypes: int64(2), object(1)\n",
      "memory usage: 3.4+ MB\n"
     ]
    }
   ],
   "source": [
    "train_data.info()"
   ]
  },
  {
   "cell_type": "code",
   "execution_count": 5,
   "metadata": {},
   "outputs": [
    {
     "name": "stdout",
     "output_type": "stream",
     "text": [
      "<class 'pandas.core.frame.DataFrame'>\n",
      "RangeIndex: 50000 entries, 0 to 49999\n",
      "Data columns (total 3 columns):\n",
      " #   Column    Non-Null Count  Dtype \n",
      "---  ------    --------------  ----- \n",
      " 0   id        50000 non-null  int64 \n",
      " 1   document  49997 non-null  object\n",
      " 2   label     50000 non-null  int64 \n",
      "dtypes: int64(2), object(1)\n",
      "memory usage: 1.1+ MB\n"
     ]
    }
   ],
   "source": [
    "test_data.info()"
   ]
  },
  {
   "cell_type": "markdown",
   "metadata": {},
   "source": [
    "## (2) 데이터로더 구성"
   ]
  },
  {
   "cell_type": "markdown",
   "metadata": {},
   "source": [
    "* IMDB 데이터셋과 달리 nsmc데이터셋은 가공이 안되어있으므로 imdb.ata_loader()와 같은 것을 만들어야 함.\n",
    "1. 데이터의 중복치 제거\n",
    "2. NaN 결측치 제거\n",
    "3. 한국어 토크나이저로 토큰화\n",
    "4. 불용어(Stopword)제거\n",
    "5. 사전 word_to_index 구성\n",
    "6. 텍스트 스트링을 사전인덱스 스트링으로 변환\n",
    "7. 트레인 테스트셋, word_to_index"
   ]
  },
  {
   "cell_type": "code",
   "execution_count": 6,
   "metadata": {},
   "outputs": [],
   "source": [
    "from konlpy.tag import Mecab\n",
    "tokenizer = Mecab()\n",
    "stopwords = ['의','가','이','은','들','는','좀','잘','걍','과','도','를','으로','자','에','와','한','하다']\n",
    "\n",
    "def load_data(train_data, test_data, num_words=10000):\n",
    "    train_data.drop_duplicates(subset=['document'], inplace=True)\n",
    "    train_data = train_data.dropna(how = 'any') \n",
    "    test_data.drop_duplicates(subset=['document'], inplace=True)\n",
    "    test_data = test_data.dropna(how = 'any') \n",
    "\n",
    "    X_train = []\n",
    "    for sentence in train_data['document']:\n",
    "        temp_X = tokenizer.morphs(sentence) # 토큰화\n",
    "        temp_X = [word for word in temp_X if not word in stopwords] # 불용어 제거\n",
    "        X_train.append(temp_X)\n",
    "\n",
    "    X_test = []\n",
    "    for sentence in test_data['document']:\n",
    "        temp_X = tokenizer.morphs(sentence) # 토큰화\n",
    "        temp_X = [word for word in temp_X if not word in stopwords] # 불용어 제거\n",
    "        X_test.append(temp_X)\n",
    "\n",
    "    words = np.concatenate(X_train).tolist()\n",
    "    counter = Counter(words)\n",
    "    counter = counter.most_common(10000-4)\n",
    "    vocab = ['<PAD>', '<BOS>', '<UNK>', '<UNUSED>'] + [key for key, _ in counter]\n",
    "    word_to_index = {word:index for index, word in enumerate(vocab)}\n",
    "\n",
    "    def wordlist_to_indexlist(wordlist):\n",
    "        return [word_to_index[word] if word in word_to_index else word_to_index['<UNK>'] for word in wordlist]\n",
    "\n",
    "    X_train = list(map(wordlist_to_indexlist, X_train))\n",
    "    X_test = list(map(wordlist_to_indexlist, X_test))\n",
    "\n",
    "    return X_train, np.array(list(train_data['label'])), X_test, np.array(list(test_data['label'])), word_to_index\n",
    "\n",
    "    \n",
    "X_train, y_train, X_test, y_test, word_to_index = load_data(train_data, test_data)"
   ]
  },
  {
   "cell_type": "code",
   "execution_count": 7,
   "metadata": {},
   "outputs": [],
   "source": [
    "# 단어: 번호 순으로 된걸 뒤집음\n",
    "index_to_word = {index:word for word, index in word_to_index.items()}"
   ]
  },
  {
   "cell_type": "markdown",
   "metadata": {},
   "source": [
    "** 인코딩은 위에 있는거같은데**"
   ]
  },
  {
   "cell_type": "code",
   "execution_count": 8,
   "metadata": {},
   "outputs": [],
   "source": [
    "# 문장 1개를 활용할 딕셔너리와 함께 주면, 단어 인덱스 리스트 벡터로 변환해 주는 함수입니다. \n",
    "# 단, 모든 문장은 <BOS>로 시작하는 것으로 합니다. \n",
    "def get_encoded_sentence(sentence, word_to_index):\n",
    "    return [word_to_index['<BOS>']]+[word_to_index[word] if word in word_to_index else word_to_index['<UNK>'] for word in sentence.split()]\n",
    "\n",
    "# 여러 개의 문장 리스트를 한꺼번에 단어 인덱스 리스트 벡터로 encode해 주는 함수입니다. \n",
    "def get_encoded_sentences(sentences, word_to_index):\n",
    "    return [get_encoded_sentence(sentence, word_to_index) for sentence in sentences]\n",
    "\n",
    "# 숫자 벡터로 encode된 문장을 원래대로 decode하는 함수입니다. \n",
    "def get_decoded_sentence(encoded_sentence, index_to_word):\n",
    "    return ' '.join(index_to_word[index] if index in index_to_word else '<UNK>' for index in encoded_sentence[1:])  #[1:]를 통해 <BOS>를 제외\n",
    "\n",
    "# 여러개의 숫자 벡터로 encode된 문장을 한꺼번에 원래대로 decode하는 함수입니다. \n",
    "def get_decoded_sentences(encoded_sentences, index_to_word):\n",
    "    return [get_decoded_sentence(encoded_sentence, index_to_word) for encoded_sentence in encoded_sentences]"
   ]
  },
  {
   "cell_type": "code",
   "execution_count": 73,
   "metadata": {},
   "outputs": [
    {
     "data": {
      "text/plain": [
       "(41,)"
      ]
     },
     "execution_count": 73,
     "metadata": {},
     "output_type": "execute_result"
    }
   ],
   "source": [
    "x_train[0].shape"
   ]
  },
  {
   "cell_type": "code",
   "execution_count": 67,
   "metadata": {},
   "outputs": [
    {
     "name": "stdout",
     "output_type": "stream",
     "text": [
      "<PAD> <PAD> <PAD> <PAD> <PAD> <PAD> 뭥미 . .. 대체 무슨 생각 이런 걸 만든 건지 모르 겠 다 ; 시간 낭비 . .. 취향 제대로 탈 듯 . .. 모든 게 너무 조악 하 고 너무 유치 해 ㅠㅠ\n",
      "라벨:  0\n"
     ]
    }
   ],
   "source": [
    "print(get_decoded_sentence(x_train[0], index_to_word))\n",
    "print('라벨: ', y_train[0])  # 1번째 리뷰데이터의 라벨"
   ]
  },
  {
   "cell_type": "markdown",
   "metadata": {},
   "source": [
    "## (3) 모델구성을 위한 데이터 분석 및 가공"
   ]
  },
  {
   "cell_type": "code",
   "execution_count": 9,
   "metadata": {},
   "outputs": [
    {
     "data": {
      "text/plain": [
       "195341"
      ]
     },
     "execution_count": 9,
     "metadata": {},
     "output_type": "execute_result"
    }
   ],
   "source": [
    "train_data.shape[0]+test_data.shape[0]"
   ]
  },
  {
   "cell_type": "code",
   "execution_count": 10,
   "metadata": {
    "scrolled": false
   },
   "outputs": [
    {
     "data": {
      "text/plain": [
       "146182"
      ]
     },
     "execution_count": 10,
     "metadata": {},
     "output_type": "execute_result"
    }
   ],
   "source": [
    "len(X_train)"
   ]
  },
  {
   "cell_type": "code",
   "execution_count": 11,
   "metadata": {},
   "outputs": [
    {
     "data": {
      "text/plain": [
       "49157"
      ]
     },
     "execution_count": 11,
     "metadata": {},
     "output_type": "execute_result"
    }
   ],
   "source": [
    "len(X_test)"
   ]
  },
  {
   "cell_type": "code",
   "execution_count": 12,
   "metadata": {},
   "outputs": [],
   "source": [
    "# 텍스트데이터 문장길이의 리스트를 생성\n",
    "total_data_text = list(X_train) + list(X_test)"
   ]
  },
  {
   "cell_type": "code",
   "execution_count": 13,
   "metadata": {},
   "outputs": [
    {
     "data": {
      "text/plain": [
       "195339"
      ]
     },
     "execution_count": 13,
     "metadata": {},
     "output_type": "execute_result"
    }
   ],
   "source": [
    "# NaN을 제외한\n",
    "len(total_data_text)"
   ]
  },
  {
   "cell_type": "markdown",
   "metadata": {},
   "source": [
    "* 적절한 문장의 길이 구하기"
   ]
  },
  {
   "cell_type": "code",
   "execution_count": 14,
   "metadata": {},
   "outputs": [
    {
     "name": "stdout",
     "output_type": "stream",
     "text": [
      "15.96938143432699\n",
      "116\n",
      "12.843571939469296\n"
     ]
    }
   ],
   "source": [
    "# 문장길이의 평균값, 최대값, 표준편차를 구한다.\n",
    "num_tokens = [len(tokens) for tokens in total_data_text]\n",
    "num_tokens = np.array(num_tokens)\n",
    "#평균, 최대값, 표준편차 계산\n",
    "print(np.mean(num_tokens))\n",
    "print(np.max(num_tokens))\n",
    "print(np.std(num_tokens))"
   ]
  },
  {
   "cell_type": "code",
   "execution_count": 15,
   "metadata": {},
   "outputs": [
    {
     "data": {
      "text/plain": [
       "41"
      ]
     },
     "execution_count": 15,
     "metadata": {},
     "output_type": "execute_result"
    }
   ],
   "source": [
    "# 최대길이를 (평균+2 * 표준편차)로\n",
    "max_tokens = np.mean(num_tokens)+2*np.std(num_tokens)\n",
    "maxlen = int(max_tokens)\n",
    "maxlen"
   ]
  },
  {
   "cell_type": "code",
   "execution_count": 16,
   "metadata": {},
   "outputs": [
    {
     "name": "stdout",
     "output_type": "stream",
     "text": [
      "전체 문장의 0.9342988343341575가 maxlen 설정값 이내에 포함됩니다. \n"
     ]
    }
   ],
   "source": [
    "print('전체 문장의 {}가 maxlen 설정값 이내에 포함됩니다. '\n",
    "      .format(np.sum(num_tokens < max_tokens) / len(num_tokens)))"
   ]
  },
  {
   "cell_type": "markdown",
   "metadata": {},
   "source": [
    "* 패딩시퀀스(문장의 길이 맞춤) - maxlen 41줄로"
   ]
  },
  {
   "cell_type": "code",
   "execution_count": 17,
   "metadata": {},
   "outputs": [],
   "source": [
    "X_train_pad = keras.preprocessing.sequence.pad_sequences(X_train,\n",
    "                                                        value=word_to_index[\"<PAD>\"],\n",
    "                                                        padding='pre', # 혹은 'pre'\n",
    "                                                        maxlen=maxlen)\n",
    "\n",
    "X_test_pad = keras.preprocessing.sequence.pad_sequences(X_test,\n",
    "                                                       value=word_to_index[\"<PAD>\"],\n",
    "                                                       padding='pre', # 혹은 'pre'\n",
    "                                                       maxlen=maxlen)"
   ]
  },
  {
   "cell_type": "markdown",
   "metadata": {},
   "source": [
    "## (4) 모델 훈련"
   ]
  },
  {
   "cell_type": "markdown",
   "metadata": {},
   "source": [
    "* 사용데이터 최종 정리"
   ]
  },
  {
   "cell_type": "code",
   "execution_count": 18,
   "metadata": {},
   "outputs": [],
   "source": [
    "vocab_size = 10000\n",
    "word_vector_dim = 41"
   ]
  },
  {
   "cell_type": "code",
   "execution_count": 19,
   "metadata": {},
   "outputs": [
    {
     "data": {
      "text/plain": [
       "29236"
      ]
     },
     "execution_count": 19,
     "metadata": {},
     "output_type": "execute_result"
    }
   ],
   "source": [
    "round(len(X_train_pad)*2/10) # 29200사용"
   ]
  },
  {
   "cell_type": "code",
   "execution_count": 20,
   "metadata": {
    "scrolled": true
   },
   "outputs": [
    {
     "name": "stdout",
     "output_type": "stream",
     "text": [
      "(116982, 41)\n",
      "(116982,)\n"
     ]
    }
   ],
   "source": [
    "# val set\n",
    "x_val = X_train_pad[:29200]\n",
    "y_val = y_train[:29200]\n",
    "# train set\n",
    "x_train = X_train_pad[29200:]\n",
    "y_train = y_train[29200:]\n",
    "\n",
    "print(x_train.shape)\n",
    "print(y_train.shape)"
   ]
  },
  {
   "cell_type": "code",
   "execution_count": 21,
   "metadata": {},
   "outputs": [
    {
     "data": {
      "text/plain": [
       "((29200, 41), (29200,))"
      ]
     },
     "execution_count": 21,
     "metadata": {},
     "output_type": "execute_result"
    }
   ],
   "source": [
    "x_val.shape,y_val.shape"
   ]
  },
  {
   "cell_type": "markdown",
   "metadata": {},
   "source": [
    "### model 1 (IMDB실습과 비슷한 모델)"
   ]
  },
  {
   "cell_type": "code",
   "execution_count": 22,
   "metadata": {
    "scrolled": true
   },
   "outputs": [
    {
     "name": "stdout",
     "output_type": "stream",
     "text": [
      "Model: \"sequential\"\n",
      "_________________________________________________________________\n",
      "Layer (type)                 Output Shape              Param #   \n",
      "=================================================================\n",
      "embedding (Embedding)        (None, None, 41)          410000    \n",
      "_________________________________________________________________\n",
      "lstm (LSTM)                  (None, 8)                 1600      \n",
      "_________________________________________________________________\n",
      "dense (Dense)                (None, 8)                 72        \n",
      "_________________________________________________________________\n",
      "dense_1 (Dense)              (None, 1)                 9         \n",
      "=================================================================\n",
      "Total params: 411,681\n",
      "Trainable params: 411,681\n",
      "Non-trainable params: 0\n",
      "_________________________________________________________________\n"
     ]
    }
   ],
   "source": [
    "model = keras.Sequential()\n",
    "\n",
    "model.add(keras.layers.Embedding(vocab_size, word_vector_dim, input_shape=(None,)))\n",
    "model.add(keras.layers.LSTM(8))   # 가장 널리 쓰이는 RNN인 LSTM 레이어를 사용하였습니다. 이때 LSTM state 벡터의 차원수는 8로 하였습니다. (변경가능)\n",
    "model.add(keras.layers.Dense(8, activation='relu'))\n",
    "model.add(keras.layers.Dense(1, activation='sigmoid')) \n",
    "model.summary()\n"
   ]
  },
  {
   "cell_type": "code",
   "execution_count": 23,
   "metadata": {},
   "outputs": [],
   "source": [
    "# 20epochs 실행결과 3부터 차이커짐"
   ]
  },
  {
   "cell_type": "code",
   "execution_count": 24,
   "metadata": {
    "scrolled": true
   },
   "outputs": [
    {
     "name": "stdout",
     "output_type": "stream",
     "text": [
      "Epoch 1/10\n",
      "229/229 [==============================] - 2s 9ms/step - loss: 0.5256 - accuracy: 0.7585 - val_loss: 0.3891 - val_accuracy: 0.8432\n",
      "Epoch 2/10\n",
      "229/229 [==============================] - 2s 8ms/step - loss: 0.3465 - accuracy: 0.8565 - val_loss: 0.3504 - val_accuracy: 0.8500\n",
      "Epoch 3/10\n",
      "229/229 [==============================] - 2s 8ms/step - loss: 0.3124 - accuracy: 0.8720 - val_loss: 0.3443 - val_accuracy: 0.8532\n",
      "Epoch 4/10\n",
      "229/229 [==============================] - 2s 8ms/step - loss: 0.2938 - accuracy: 0.8812 - val_loss: 0.3422 - val_accuracy: 0.8536\n",
      "Epoch 5/10\n",
      "229/229 [==============================] - 2s 8ms/step - loss: 0.2771 - accuracy: 0.8887 - val_loss: 0.3410 - val_accuracy: 0.8557\n",
      "Epoch 6/10\n",
      "229/229 [==============================] - 2s 8ms/step - loss: 0.2599 - accuracy: 0.8970 - val_loss: 0.3492 - val_accuracy: 0.8545\n",
      "Epoch 7/10\n",
      "229/229 [==============================] - 2s 8ms/step - loss: 0.2435 - accuracy: 0.9037 - val_loss: 0.3545 - val_accuracy: 0.8537\n",
      "Epoch 8/10\n",
      "229/229 [==============================] - 2s 8ms/step - loss: 0.2281 - accuracy: 0.9116 - val_loss: 0.3665 - val_accuracy: 0.8531\n",
      "Epoch 9/10\n",
      "229/229 [==============================] - 2s 8ms/step - loss: 0.2140 - accuracy: 0.9175 - val_loss: 0.3834 - val_accuracy: 0.8497\n",
      "Epoch 10/10\n",
      "229/229 [==============================] - 2s 8ms/step - loss: 0.2014 - accuracy: 0.9232 - val_loss: 0.3957 - val_accuracy: 0.8473\n"
     ]
    }
   ],
   "source": [
    "model.compile(optimizer='adam',\n",
    "              loss='binary_crossentropy',\n",
    "              metrics=['accuracy'])\n",
    "\n",
    "epochs = 10 # 몇 epoch훈련이 좋은가 결과보며 변경해보기\n",
    "history = model.fit(x_train, y_train, epochs=epochs, batch_size=512,\n",
    "                    validation_data=(x_val, y_val), verbose=1)"
   ]
  },
  {
   "cell_type": "code",
   "execution_count": 25,
   "metadata": {},
   "outputs": [
    {
     "name": "stdout",
     "output_type": "stream",
     "text": [
      "1537/1537 - 3s - loss: 0.3990 - accuracy: 0.8443\n",
      "[0.3990454077720642, 0.8442744612693787]\n"
     ]
    }
   ],
   "source": [
    "results = model.evaluate(X_test_pad,  y_test, verbose=2)\n",
    "\n",
    "print(results)"
   ]
  },
  {
   "cell_type": "markdown",
   "metadata": {},
   "source": [
    "### model  2 (CNNv1d)"
   ]
  },
  {
   "cell_type": "code",
   "execution_count": 26,
   "metadata": {},
   "outputs": [
    {
     "name": "stdout",
     "output_type": "stream",
     "text": [
      "Model: \"sequential_1\"\n",
      "_________________________________________________________________\n",
      "Layer (type)                 Output Shape              Param #   \n",
      "=================================================================\n",
      "embedding_1 (Embedding)      (None, None, 41)          410000    \n",
      "_________________________________________________________________\n",
      "conv1d (Conv1D)              (None, None, 16)          4608      \n",
      "_________________________________________________________________\n",
      "max_pooling1d (MaxPooling1D) (None, None, 16)          0         \n",
      "_________________________________________________________________\n",
      "conv1d_1 (Conv1D)            (None, None, 16)          1808      \n",
      "_________________________________________________________________\n",
      "global_max_pooling1d (Global (None, 16)                0         \n",
      "_________________________________________________________________\n",
      "dense_2 (Dense)              (None, 8)                 136       \n",
      "_________________________________________________________________\n",
      "dense_3 (Dense)              (None, 1)                 9         \n",
      "=================================================================\n",
      "Total params: 416,561\n",
      "Trainable params: 416,561\n",
      "Non-trainable params: 0\n",
      "_________________________________________________________________\n"
     ]
    }
   ],
   "source": [
    "model2 = keras.Sequential()\n",
    "model2.add(keras.layers.Embedding(vocab_size, word_vector_dim, input_shape=(None,)))\n",
    "model2.add(keras.layers.Conv1D(16, 7, activation='relu'))\n",
    "model2.add(keras.layers.MaxPooling1D(5))\n",
    "model2.add(keras.layers.Conv1D(16, 7, activation='relu'))\n",
    "model2.add(keras.layers.GlobalMaxPooling1D())\n",
    "model2.add(keras.layers.Dense(8, activation='relu'))\n",
    "model2.add(keras.layers.Dense(1, activation='sigmoid'))  # 최종 출력은 긍정/부정을 나타내는 1dim 입니다.\n",
    "\n",
    "model2.summary()"
   ]
  },
  {
   "cell_type": "code",
   "execution_count": 27,
   "metadata": {
    "scrolled": true
   },
   "outputs": [
    {
     "name": "stdout",
     "output_type": "stream",
     "text": [
      "Epoch 1/10\n",
      "944/944 [==============================] - 11s 12ms/step - loss: 0.4072 - accuracy: 0.8074 - val_loss: 0.3332 - val_accuracy: 0.8558\n",
      "Epoch 2/10\n",
      "944/944 [==============================] - 5s 5ms/step - loss: 0.2893 - accuracy: 0.8792 - val_loss: 0.3242 - val_accuracy: 0.8609\n",
      "Epoch 3/10\n",
      "944/944 [==============================] - 5s 6ms/step - loss: 0.2213 - accuracy: 0.9135 - val_loss: 0.3474 - val_accuracy: 0.8556\n",
      "Epoch 4/10\n",
      "944/944 [==============================] - 5s 5ms/step - loss: 0.1518 - accuracy: 0.9446 - val_loss: 0.4122 - val_accuracy: 0.8507\n",
      "Epoch 5/10\n",
      "944/944 [==============================] - 4s 5ms/step - loss: 0.1019 - accuracy: 0.9650 - val_loss: 0.5030 - val_accuracy: 0.8468\n",
      "Epoch 6/10\n",
      "944/944 [==============================] - 5s 5ms/step - loss: 0.0707 - accuracy: 0.9764 - val_loss: 0.5814 - val_accuracy: 0.8393\n",
      "Epoch 7/10\n",
      "944/944 [==============================] - 5s 5ms/step - loss: 0.0541 - accuracy: 0.9822 - val_loss: 0.6730 - val_accuracy: 0.8354\n",
      "Epoch 8/10\n",
      "944/944 [==============================] - 5s 5ms/step - loss: 0.0450 - accuracy: 0.9854 - val_loss: 0.7407 - val_accuracy: 0.8348\n",
      "Epoch 9/10\n",
      "944/944 [==============================] - 5s 6ms/step - loss: 0.0405 - accuracy: 0.9866 - val_loss: 0.7706 - val_accuracy: 0.8331\n",
      "Epoch 10/10\n",
      "944/944 [==============================] - 5s 5ms/step - loss: 0.0374 - accuracy: 0.9873 - val_loss: 0.7958 - val_accuracy: 0.8313\n"
     ]
    }
   ],
   "source": [
    "model2.compile(optimizer='adam',\n",
    "              loss='binary_crossentropy',\n",
    "              metrics=['accuracy'])\n",
    "\n",
    "epochs = 10 # 몇 epoch훈련이 좋은가 결과보며 변경해보기\n",
    "history2 = model2.fit(x_train, y_train, epochs=epochs, batch_size=124,\n",
    "                    validation_data=(x_val, y_val), verbose=1)"
   ]
  },
  {
   "cell_type": "code",
   "execution_count": 28,
   "metadata": {},
   "outputs": [
    {
     "name": "stdout",
     "output_type": "stream",
     "text": [
      "1537/1537 - 4s - loss: 0.8267 - accuracy: 0.8286\n",
      "[0.8266577124595642, 0.8285900354385376]\n"
     ]
    }
   ],
   "source": [
    "results2 = model2.evaluate(X_test_pad,  y_test, verbose=2)\n",
    "\n",
    "print(results2)"
   ]
  },
  {
   "cell_type": "markdown",
   "metadata": {},
   "source": [
    "### model 3 - Maxpoolinglayer 1개만 사용"
   ]
  },
  {
   "cell_type": "code",
   "execution_count": 29,
   "metadata": {},
   "outputs": [
    {
     "name": "stdout",
     "output_type": "stream",
     "text": [
      "Model: \"sequential_2\"\n",
      "_________________________________________________________________\n",
      "Layer (type)                 Output Shape              Param #   \n",
      "=================================================================\n",
      "embedding_2 (Embedding)      (None, None, 41)          410000    \n",
      "_________________________________________________________________\n",
      "global_max_pooling1d_1 (Glob (None, 41)                0         \n",
      "_________________________________________________________________\n",
      "dense_4 (Dense)              (None, 8)                 336       \n",
      "_________________________________________________________________\n",
      "dense_5 (Dense)              (None, 1)                 9         \n",
      "=================================================================\n",
      "Total params: 410,345\n",
      "Trainable params: 410,345\n",
      "Non-trainable params: 0\n",
      "_________________________________________________________________\n"
     ]
    }
   ],
   "source": [
    "model3 = keras.Sequential()\n",
    "model3.add(keras.layers.Embedding(vocab_size, word_vector_dim, input_shape=(None,)))\n",
    "model3.add(keras.layers.GlobalMaxPooling1D())\n",
    "model3.add(keras.layers.Dense(8, activation='relu'))\n",
    "model3.add(keras.layers.Dense(1, activation='sigmoid'))  # 최종 출력은 긍정/부정을 나타내는 1dim 입니다.\n",
    "\n",
    "model3.summary()"
   ]
  },
  {
   "cell_type": "code",
   "execution_count": 30,
   "metadata": {},
   "outputs": [
    {
     "name": "stdout",
     "output_type": "stream",
     "text": [
      "Epoch 1/10\n",
      "944/944 [==============================] - 4s 5ms/step - loss: 0.4305 - accuracy: 0.8115 - val_loss: 0.3454 - val_accuracy: 0.8479\n",
      "Epoch 2/10\n",
      "944/944 [==============================] - 4s 4ms/step - loss: 0.3120 - accuracy: 0.8686 - val_loss: 0.3379 - val_accuracy: 0.8528\n",
      "Epoch 3/10\n",
      "944/944 [==============================] - 4s 4ms/step - loss: 0.2705 - accuracy: 0.8896 - val_loss: 0.3438 - val_accuracy: 0.8537\n",
      "Epoch 4/10\n",
      "944/944 [==============================] - 4s 4ms/step - loss: 0.2360 - accuracy: 0.9063 - val_loss: 0.3594 - val_accuracy: 0.8534\n",
      "Epoch 5/10\n",
      "944/944 [==============================] - 4s 4ms/step - loss: 0.2066 - accuracy: 0.9203 - val_loss: 0.3814 - val_accuracy: 0.8497\n",
      "Epoch 6/10\n",
      "944/944 [==============================] - 4s 4ms/step - loss: 0.1795 - accuracy: 0.9323 - val_loss: 0.4114 - val_accuracy: 0.8465\n",
      "Epoch 7/10\n",
      "944/944 [==============================] - 4s 4ms/step - loss: 0.1552 - accuracy: 0.9426 - val_loss: 0.4406 - val_accuracy: 0.8415\n",
      "Epoch 8/10\n",
      "944/944 [==============================] - 4s 4ms/step - loss: 0.1343 - accuracy: 0.9524 - val_loss: 0.4778 - val_accuracy: 0.8383\n",
      "Epoch 9/10\n",
      "944/944 [==============================] - 4s 4ms/step - loss: 0.1164 - accuracy: 0.9592 - val_loss: 0.5147 - val_accuracy: 0.8358\n",
      "Epoch 10/10\n",
      "944/944 [==============================] - 4s 4ms/step - loss: 0.1011 - accuracy: 0.9649 - val_loss: 0.5638 - val_accuracy: 0.8315\n"
     ]
    }
   ],
   "source": [
    "model3.compile(optimizer='adam',\n",
    "              loss='binary_crossentropy',\n",
    "              metrics=['accuracy'])\n",
    "\n",
    "epochs = 10 # 몇 epoch훈련이 좋은가 결과보며 변경해보기\n",
    "history3 = model3.fit(x_train, y_train, epochs=epochs, batch_size=124,\n",
    "                    validation_data=(x_val, y_val), verbose=1)"
   ]
  },
  {
   "cell_type": "code",
   "execution_count": 31,
   "metadata": {},
   "outputs": [
    {
     "name": "stdout",
     "output_type": "stream",
     "text": [
      "1537/1537 - 2s - loss: 0.5700 - accuracy: 0.8282\n",
      "[0.5699579119682312, 0.8282442092895508]\n"
     ]
    }
   ],
   "source": [
    "results3 = model3.evaluate(X_test_pad,  y_test, verbose=2)\n",
    "print(results3)"
   ]
  },
  {
   "cell_type": "markdown",
   "metadata": {},
   "source": [
    "## (5) loss, accuracy 시각화"
   ]
  },
  {
   "cell_type": "code",
   "execution_count": 32,
   "metadata": {},
   "outputs": [
    {
     "name": "stdout",
     "output_type": "stream",
     "text": [
      "dict_keys(['loss', 'accuracy', 'val_loss', 'val_accuracy'])\n"
     ]
    }
   ],
   "source": [
    "# history.history 딕셔너리 형태\n",
    "history_dict = history.history\n",
    "history_dict2 = history2.history\n",
    "history_dict3 = history3.history\n",
    "print(history_dict.keys())"
   ]
  },
  {
   "cell_type": "code",
   "execution_count": 33,
   "metadata": {},
   "outputs": [],
   "source": [
    "import matplotlib.pyplot as plt\n",
    "\n",
    "acc = history_dict['accuracy']\n",
    "acc2 = history_dict2['accuracy']\n",
    "acc3 = history_dict3['accuracy']\n",
    "\n",
    "val_acc = history_dict['val_accuracy']\n",
    "val_acc2 = history_dict2['val_accuracy']\n",
    "val_acc3 = history_dict3['val_accuracy']\n",
    "\n",
    "loss = history_dict['loss']\n",
    "loss2 = history_dict2['loss']\n",
    "loss3 = history_dict3['loss']\n",
    "\n",
    "val_loss = history_dict['val_loss']\n",
    "val_loss2 = history_dict2['val_loss']\n",
    "val_loss3 = history_dict3['val_loss']\n",
    "\n",
    "epochs = range(1,len(acc)+1) # lenacc = 현재 20 (1,20)이므로 (1,21)해야 20까지 나옴"
   ]
  },
  {
   "cell_type": "markdown",
   "metadata": {},
   "source": [
    "* loss graph"
   ]
  },
  {
   "cell_type": "code",
   "execution_count": 37,
   "metadata": {},
   "outputs": [
    {
     "data": {
      "image/png": "[encoded data removed]",
      "text/plain": [
       "<Figure size 1440x720 with 1 Axes>"
      ]
     },
     "metadata": {
      "needs_background": "light"
     },
     "output_type": "display_data"
    }
   ],
   "source": [
    "plt.plot(epochs, loss,'g-', label = 'Training loss')\n",
    "plt.plot(epochs, val_loss,'g:', label='Validataion_loss')\n",
    "plt.plot(epochs, loss2, 'y-', label = 'Training loss2')\n",
    "plt.plot(epochs, val_loss2,'y:', label='Validataion_loss2')\n",
    "plt.plot(epochs, loss3, 'r-', label = 'Training loss3')\n",
    "plt.plot(epochs, val_loss3,'r:', label='Validataion_loss3')\n",
    "plt.title('Training and validation loss')\n",
    "\n",
    "plt.rcParams[\"figure.figsize\"] = (20,10)\n",
    "plt.xlabel('Epochs')\n",
    "plt.ylabel('Loss')\n",
    "plt.grid()\n",
    "plt.legend()\n",
    "\n",
    "\n",
    "plt.show()"
   ]
  },
  {
   "cell_type": "markdown",
   "metadata": {},
   "source": [
    "* accuracy graph"
   ]
  },
  {
   "cell_type": "code",
   "execution_count": 38,
   "metadata": {},
   "outputs": [
    {
     "data": {
      "image/png": "[encoded data removed]",
      "text/plain": [
       "<Figure size 1440x720 with 1 Axes>"
      ]
     },
     "metadata": {
      "needs_background": "light"
     },
     "output_type": "display_data"
    }
   ],
   "source": [
    "plt.plot(epochs, acc,'g-', label = 'Training acc')\n",
    "plt.plot(epochs, val_acc,'g:', label='Validation acc')\n",
    "plt.plot(epochs, acc2, 'y-', label = 'Training acc2')\n",
    "plt.plot(epochs, val_acc2,'y:', label='Validation acc2')\n",
    "plt.plot(epochs, acc3, 'r-', label = 'Training acc3')\n",
    "plt.plot(epochs, val_acc3,'r:', label='Validation acc3')\n",
    "plt.title('Training and validation acc')\n",
    "\n",
    "plt.rcParams[\"figure.figsize\"] = (20,10)\n",
    "plt.xlabel('Epochs')\n",
    "plt.ylabel('acc')\n",
    "plt.grid()\n",
    "plt.legend()\n",
    "\n",
    "\n",
    "plt.show()"
   ]
  },
  {
   "cell_type": "markdown",
   "metadata": {},
   "source": [
    "* loss, acc 모두 낮은 epoch에서 비슷한 수치를 유지하다가 학습이 진행될 수록 오버피팅?이 발생했다. acc도 85근처로 90이상을 원했는데 만족스럽지 않다."
   ]
  },
  {
   "cell_type": "markdown",
   "metadata": {},
   "source": [
    "## (6) 학습된 Embedding layer분석"
   ]
  },
  {
   "cell_type": "markdown",
   "metadata": {},
   "source": [
    "* 모델의 임베딩 레이어에서 weight를 가져옴"
   ]
  },
  {
   "cell_type": "code",
   "execution_count": 39,
   "metadata": {},
   "outputs": [
    {
     "name": "stdout",
     "output_type": "stream",
     "text": [
      "(10000, 41)\n"
     ]
    }
   ],
   "source": [
    "# model의 첫번째 layer가 임베딩레이어임\n",
    "# model.add(keras.layers.Embedding(vocab_size, word_vector_dim, input_shape=(None,)))\n",
    "embedding_layer = model.layers[0]\n",
    "weights = embedding_layer.get_weights()[0]\n",
    "print(weights.shape)    # shape: (vocab_size, embedding_dim)"
   ]
  },
  {
   "cell_type": "markdown",
   "metadata": {},
   "source": [
    "* 1번째 단어의 word2vec결과"
   ]
  },
  {
   "cell_type": "code",
   "execution_count": 51,
   "metadata": {
    "scrolled": false
   },
   "outputs": [
    {
     "data": {
      "text/plain": [
       "array([ 0.00881387,  0.06291465,  0.01877097,  0.00796767,  0.03520044,\n",
       "        0.01778967,  0.00548065, -0.01046995, -0.06842739, -0.01388497,\n",
       "       -0.00946632, -0.05060071,  0.02548887, -0.15900408, -0.01813384,\n",
       "       -0.02935122, -0.05019925,  0.02772343, -0.06378287,  0.02421084,\n",
       "       -0.05789846, -0.03053093, -0.03628182,  0.0110943 ,  0.00171683,\n",
       "        0.01696362, -0.02576784,  0.18655828, -0.04228434,  0.03491387,\n",
       "        0.04100617,  0.00433224, -0.03610105,  0.02807436,  0.0512603 ,\n",
       "       -0.00032347, -0.04726715, -0.08565458,  0.00440666, -0.00327727,\n",
       "        0.0083308 ], dtype=float32)"
      ]
     },
     "execution_count": 51,
     "metadata": {},
     "output_type": "execute_result"
    }
   ],
   "source": [
    "weights[0]"
   ]
  },
  {
   "cell_type": "code",
   "execution_count": null,
   "metadata": {},
   "outputs": [],
   "source": [
    "## model.get_weights() == 단어의 의미를 나타내는 벡터 (훈련한 파라미터값)"
   ]
  },
  {
   "cell_type": "markdown",
   "metadata": {},
   "source": [
    "* 이 코드는 어렵다."
   ]
  },
  {
   "cell_type": "code",
   "execution_count": 48,
   "metadata": {},
   "outputs": [
    {
     "data": {
      "text/plain": [
       "array([[ 8.81386921e-03,  6.29146472e-02,  1.87709741e-02, ...,\n",
       "         4.40665800e-03, -3.27726803e-03,  8.33080150e-03],\n",
       "       [ 1.84191391e-03,  3.86586525e-02,  2.43699551e-03, ...,\n",
       "        -3.64846364e-02, -1.94390770e-02, -1.67835504e-04],\n",
       "       [-4.78815287e-03,  3.47478315e-02, -4.98263277e-02, ...,\n",
       "         3.44337337e-03, -1.05586713e-02, -6.89809956e-03],\n",
       "       ...,\n",
       "       [-1.57669373e-02, -1.19259477e-01,  1.98153198e-01, ...,\n",
       "        -3.60641144e-02, -1.65326536e-01,  1.05713665e-01],\n",
       "       [ 9.86033082e-02, -1.26773775e-01,  1.11534446e-01, ...,\n",
       "        -7.62116611e-02, -9.50482935e-02,  9.48969275e-02],\n",
       "       [-6.67343289e-03, -4.48502190e-02,  9.51120406e-02, ...,\n",
       "        -7.75671611e-03, -1.80810168e-02, -4.57421541e-02]], dtype=float32)"
      ]
     },
     "execution_count": 48,
     "metadata": {},
     "output_type": "execute_result"
    }
   ],
   "source": [
    "model.get_weights()[0]"
   ]
  },
  {
   "cell_type": "code",
   "execution_count": 47,
   "metadata": {},
   "outputs": [
    {
     "data": {
      "text/plain": [
       "(10000, 41)"
      ]
     },
     "execution_count": 47,
     "metadata": {},
     "output_type": "execute_result"
    }
   ],
   "source": [
    "model.get_weights()[0].shape"
   ]
  },
  {
   "cell_type": "code",
   "execution_count": 54,
   "metadata": {},
   "outputs": [
    {
     "data": {
      "text/plain": [
       "'.'"
      ]
     },
     "execution_count": 54,
     "metadata": {},
     "output_type": "execute_result"
    }
   ],
   "source": [
    "index_to_word[4]"
   ]
  },
  {
   "cell_type": "code",
   "execution_count": 55,
   "metadata": {},
   "outputs": [],
   "source": [
    "import os\n",
    "\n",
    "# 학습한 Embedding 파라미터를 파일에 써서 저장합니다. \n",
    "word2vec_file_path = os.getenv('HOME')+'/aiffel/sentiment_classification/word2vec_ex.txt'\n",
    "f = open(word2vec_file_path, 'w')\n",
    "f.write('{} {}\\n'.format(vocab_size-4, word_vector_dim))  # 몇개의 벡터를 얼마 사이즈로 기재할지 타이틀을 씁니다.\n",
    "\n",
    "# 단어 개수(에서 특수문자 4개는 제외하고)만큼의 워드 벡터를 파일에 기록합니다. \n",
    "vectors = model.get_weights()[0] # 모델의 가중치\n",
    "for i in range(4,vocab_size):\n",
    "    f.write('{} {}\\n'.format(index_to_word[i], ' '.join(map(str, list(vectors[i, :]))))) ## ??\n",
    "f.close()"
   ]
  },
  {
   "cell_type": "code",
   "execution_count": 63,
   "metadata": {},
   "outputs": [],
   "source": [
    "from gensim.models.keyedvectors import Word2VecKeyedVectors\n",
    "word_vectors = Word2VecKeyedVectors.load_word2vec_format(word2vec_file_path, binary=False) "
   ]
  },
  {
   "cell_type": "code",
   "execution_count": 74,
   "metadata": {},
   "outputs": [
    {
     "data": {
      "text/plain": [
       "[('이제서야', 0.9122577905654907),\n",
       " ('놓칠', 0.9083559513092041),\n",
       " ('훌쩍', 0.9078362584114075),\n",
       " ('뿌듯', 0.9066042304039001),\n",
       " ('돌파', 0.9021356701850891),\n",
       " ('갈증', 0.9018605947494507),\n",
       " ('비범', 0.9013082981109619),\n",
       " ('게이트', 0.9009705185890198),\n",
       " ('후유증', 0.8997436761856079),\n",
       " ('푹', 0.8989970684051514)]"
      ]
     },
     "execution_count": 74,
     "metadata": {},
     "output_type": "execute_result"
    }
   ],
   "source": [
    "word_vectors.similar_by_word(\"사랑\")"
   ]
  },
  {
   "cell_type": "markdown",
   "metadata": {},
   "source": [
    "* 비슷한 단어라고 내놓은 것들이 상당히 부족해보인다. 모델의 정확도가 85% 수준이지만 뭔가 문제가 많아보인다,"
   ]
  },
  {
   "cell_type": "markdown",
   "metadata": {},
   "source": [
    "## (8) 한국어 Word2Vec Embedding 이용해 성능개선"
   ]
  },
  {
   "cell_type": "code",
   "execution_count": 119,
   "metadata": {},
   "outputs": [],
   "source": [
    "vocab_size = 10000\n",
    "word_vector_dim = 200"
   ]
  },
  {
   "cell_type": "code",
   "execution_count": null,
   "metadata": {},
   "outputs": [],
   "source": [
    "## utf-8 이슈 발생\n",
    "## -아닐 경우-\n",
    "## Keyedvector를 가져와서 그 파라미터를 모델에 넣고 훈련하려했으나 실패\n",
    "## word2vec도 실패"
   ]
  },
  {
   "cell_type": "code",
   "execution_count": 136,
   "metadata": {},
   "outputs": [
    {
     "ename": "UnicodeDecodeError",
     "evalue": "'utf-8' codec can't decode byte 0x80 in position 0: invalid start byte",
     "output_type": "error",
     "traceback": [
      "\u001b[0;31m---------------------------------------------------------------------------\u001b[0m",
      "\u001b[0;31mUnicodeDecodeError\u001b[0m                        Traceback (most recent call last)",
      "\u001b[0;32m<ipython-input-136-6303dc3ff808>\u001b[0m in \u001b[0;36m<module>\u001b[0;34m\u001b[0m\n\u001b[1;32m      4\u001b[0m \u001b[0mf1\u001b[0m \u001b[0;34m=\u001b[0m \u001b[0mopen\u001b[0m\u001b[0;34m(\u001b[0m\u001b[0mword2vec_path\u001b[0m\u001b[0;34m,\u001b[0m\u001b[0;34m'r'\u001b[0m\u001b[0;34m,\u001b[0m \u001b[0mencoding\u001b[0m\u001b[0;34m=\u001b[0m\u001b[0;34m\"UTF8\"\u001b[0m\u001b[0;34m)\u001b[0m\u001b[0;34m\u001b[0m\u001b[0;34m\u001b[0m\u001b[0m\n\u001b[1;32m      5\u001b[0m \u001b[0;34m\u001b[0m\u001b[0m\n\u001b[0;32m----> 6\u001b[0;31m \u001b[0;32mfor\u001b[0m \u001b[0mline\u001b[0m \u001b[0;32min\u001b[0m \u001b[0mf1\u001b[0m\u001b[0;34m:\u001b[0m\u001b[0;34m\u001b[0m\u001b[0;34m\u001b[0m\u001b[0m\n\u001b[0m\u001b[1;32m      7\u001b[0m     \u001b[0mprint\u001b[0m\u001b[0;34m(\u001b[0m\u001b[0mline\u001b[0m\u001b[0;34m)\u001b[0m\u001b[0;34m\u001b[0m\u001b[0;34m\u001b[0m\u001b[0m\n\u001b[1;32m      8\u001b[0m     \u001b[0mword_vector\u001b[0m \u001b[0;34m=\u001b[0m \u001b[0mline\u001b[0m\u001b[0;34m.\u001b[0m\u001b[0msplit\u001b[0m\u001b[0;34m(\u001b[0m\u001b[0;34m)\u001b[0m\u001b[0;34m\u001b[0m\u001b[0;34m\u001b[0m\u001b[0m\n",
      "\u001b[0;32m~/anaconda3/envs/aiffel/lib/python3.7/codecs.py\u001b[0m in \u001b[0;36mdecode\u001b[0;34m(self, input, final)\u001b[0m\n\u001b[1;32m    320\u001b[0m         \u001b[0;31m# decode input (taking the buffer into account)\u001b[0m\u001b[0;34m\u001b[0m\u001b[0;34m\u001b[0m\u001b[0;34m\u001b[0m\u001b[0m\n\u001b[1;32m    321\u001b[0m         \u001b[0mdata\u001b[0m \u001b[0;34m=\u001b[0m \u001b[0mself\u001b[0m\u001b[0;34m.\u001b[0m\u001b[0mbuffer\u001b[0m \u001b[0;34m+\u001b[0m \u001b[0minput\u001b[0m\u001b[0;34m\u001b[0m\u001b[0;34m\u001b[0m\u001b[0m\n\u001b[0;32m--> 322\u001b[0;31m         \u001b[0;34m(\u001b[0m\u001b[0mresult\u001b[0m\u001b[0;34m,\u001b[0m \u001b[0mconsumed\u001b[0m\u001b[0;34m)\u001b[0m \u001b[0;34m=\u001b[0m \u001b[0mself\u001b[0m\u001b[0;34m.\u001b[0m\u001b[0m_buffer_decode\u001b[0m\u001b[0;34m(\u001b[0m\u001b[0mdata\u001b[0m\u001b[0;34m,\u001b[0m \u001b[0mself\u001b[0m\u001b[0;34m.\u001b[0m\u001b[0merrors\u001b[0m\u001b[0;34m,\u001b[0m \u001b[0mfinal\u001b[0m\u001b[0;34m)\u001b[0m\u001b[0;34m\u001b[0m\u001b[0;34m\u001b[0m\u001b[0m\n\u001b[0m\u001b[1;32m    323\u001b[0m         \u001b[0;31m# keep undecoded input until the next call\u001b[0m\u001b[0;34m\u001b[0m\u001b[0;34m\u001b[0m\u001b[0;34m\u001b[0m\u001b[0m\n\u001b[1;32m    324\u001b[0m         \u001b[0mself\u001b[0m\u001b[0;34m.\u001b[0m\u001b[0mbuffer\u001b[0m \u001b[0;34m=\u001b[0m \u001b[0mdata\u001b[0m\u001b[0;34m[\u001b[0m\u001b[0mconsumed\u001b[0m\u001b[0;34m:\u001b[0m\u001b[0;34m]\u001b[0m\u001b[0;34m\u001b[0m\u001b[0;34m\u001b[0m\u001b[0m\n",
      "\u001b[0;31mUnicodeDecodeError\u001b[0m: 'utf-8' codec can't decode byte 0x80 in position 0: invalid start byte"
     ]
    }
   ],
   "source": [
    "# 다른 모델의 weight 사용하기\n",
    "from gensim.models import Word2Vec\n",
    "word2vec_path = os.getenv('HOME')+'/aiffel/sentiment_classification/ko/ko.bin'\n",
    "f1 = open(word2vec_path,'r', encoding=\"UTF8\")\n",
    "\n",
    "for line in f1:\n",
    "    print(line)\n",
    "    word_vector = line.split()\n",
    "    word = word_vector[0]\n",
    "    word_vector_arr = np.asarray(word_vector[1:], dtype='float32') # 200개의 값을 가지는 array로 변환\n",
    "    embedding_dict[word] = word_vector_arr\n",
    "f.close()\n",
    "print('%s개의 Embedding vector가 있습니다.' % len(embedding_dict))\n",
    "\n"
   ]
  },
  {
   "cell_type": "code",
   "execution_count": 137,
   "metadata": {},
   "outputs": [],
   "source": [
    "word2vec_kor = Word2Vec.load(word2vec_path)"
   ]
  },
  {
   "cell_type": "code",
   "execution_count": 138,
   "metadata": {
    "scrolled": true
   },
   "outputs": [
    {
     "name": "stderr",
     "output_type": "stream",
     "text": [
      "/home/ssac26/anaconda3/envs/aiffel/lib/python3.7/site-packages/ipykernel_launcher.py:1: DeprecationWarning: Call to deprecated `__getitem__` (Method will be removed in 4.0.0, use self.wv.__getitem__() instead).\n",
      "  \"\"\"Entry point for launching an IPython kernel.\n"
     ]
    },
    {
     "data": {
      "text/plain": [
       "(array([ 4.16339219e-01, -1.25663519e+00,  2.63531923e+00,  2.26872540e+00,\n",
       "         4.52816971e-02, -4.47537303e-02,  9.51993346e-01, -2.65543666e-02,\n",
       "        -5.99260151e-01,  9.88520384e-01, -9.79172587e-01,  1.96647871e+00,\n",
       "         5.99487901e-01,  9.28627551e-01, -5.57144225e-01, -3.85925353e-01,\n",
       "         8.81565571e-01,  2.05469322e+00,  2.30629563e+00,  8.88094604e-01,\n",
       "        -1.34726211e-01,  7.23809421e-01, -3.62861693e-01,  9.56575871e-01,\n",
       "         1.06285739e+00, -5.84842682e-01,  1.79322705e-01, -1.64163542e+00,\n",
       "        -6.85926974e-01,  1.90222645e+00, -8.29897046e-01,  6.82858303e-02,\n",
       "        -1.18628168e+00,  6.74696505e-01, -1.90387058e+00, -3.69383240e+00,\n",
       "         2.01234841e+00,  1.60147563e-01,  6.87842131e-01, -6.95778549e-01,\n",
       "        -1.41536549e-01, -1.70556533e+00,  4.76975322e-01,  4.25297648e-01,\n",
       "        -1.95409787e+00, -1.02384269e+00,  1.23789036e+00, -1.48075604e+00,\n",
       "        -3.19255471e-01, -3.04880172e-01, -8.32104325e-01, -1.10666126e-01,\n",
       "        -5.11343241e-01,  6.89941704e-01, -5.15023731e-02, -1.24637818e+00,\n",
       "         2.28606844e+00, -8.59355748e-01, -1.27378082e+00, -2.92612052e+00,\n",
       "         8.78274560e-01, -1.99539912e+00, -5.21139622e-01,  7.41359591e-01,\n",
       "        -2.57469058e-01,  7.17562973e-01,  7.76606381e-01, -7.62174010e-01,\n",
       "         1.87984839e-01,  1.81166023e-01, -2.39083767e-02,  1.06345487e+00,\n",
       "        -7.92985559e-01,  2.07382464e+00, -1.10185647e+00,  1.49257529e+00,\n",
       "         1.28908849e+00, -9.35586452e-01, -1.16613758e+00,  6.10508680e-01,\n",
       "         3.85082483e-01, -7.32348144e-01,  5.97122125e-02, -9.89360869e-01,\n",
       "         1.13561261e+00, -5.54932356e-01,  3.54145318e-01,  5.99843562e-01,\n",
       "         2.45675340e-01, -4.33977008e-01, -1.22781467e+00,  1.72071159e-01,\n",
       "         9.94108737e-01, -1.04595852e+00, -3.41624409e-01,  1.30935919e+00,\n",
       "        -1.46211863e-01,  1.02799344e+00, -5.36727428e-01, -2.27725315e+00,\n",
       "        -3.23108345e-01,  1.41660869e+00,  2.70021248e+00,  1.34998631e+00,\n",
       "         1.19481206e+00,  2.07112789e+00,  1.87895823e+00, -1.84424758e+00,\n",
       "        -1.02901375e+00,  1.47860646e+00,  1.23383321e-01, -2.43581057e+00,\n",
       "         1.71278119e+00,  4.50180918e-02, -1.73189461e-01, -1.79668832e+00,\n",
       "         8.26614872e-02, -1.53068125e+00,  5.53416252e-01,  5.08046858e-02,\n",
       "         8.92233789e-01, -8.22398186e-01,  8.75071168e-01,  9.64014053e-01,\n",
       "        -2.06782603e+00, -2.85735607e-01,  4.24656212e-01, -1.12427688e+00,\n",
       "         2.88964581e+00,  1.01939332e+00,  6.52253330e-01,  4.27911341e-01,\n",
       "         1.37122798e+00, -2.11294532e+00, -2.92820960e-01,  5.01174368e-02,\n",
       "         1.24042177e+00,  1.84806541e-01, -4.26419199e-01,  1.49223351e+00,\n",
       "        -2.30693603e+00,  1.43530095e+00, -1.47975445e+00, -2.45112270e-01,\n",
       "        -6.61013782e-01, -4.40083563e-01, -2.46005077e-02, -2.56077552e+00,\n",
       "        -1.78635418e+00, -1.37175113e-01, -2.81896162e+00, -4.06658620e-01,\n",
       "        -4.00749981e-01, -5.72897315e-01, -3.15527260e-01, -1.60332096e+00,\n",
       "         9.20311809e-01, -1.21298552e+00, -2.18296885e-01, -3.23373705e-01,\n",
       "         7.91323006e-01, -1.89763653e+00, -6.30701602e-01, -6.87960565e-01,\n",
       "        -8.99610519e-01,  1.82841134e+00, -1.36542010e+00, -8.19834292e-01,\n",
       "        -3.62865359e-01,  1.16274297e+00,  2.10491276e+00,  2.88767147e+00,\n",
       "         2.62986207e+00, -4.00682009e-04, -7.19938815e-01,  1.61592007e-01,\n",
       "         3.19738299e-01,  4.46158230e-01,  2.06236899e-01,  5.38945436e-01,\n",
       "         2.16039824e+00,  2.20878839e+00, -7.14024484e-01, -2.25721216e+00,\n",
       "        -2.74890482e-01, -1.18609250e+00,  1.85035363e-01,  6.94604039e-01,\n",
       "         6.72587216e-01,  1.00000811e+00, -1.08718824e+00, -2.14863211e-01,\n",
       "        -3.64052504e-02, -1.24219942e+00, -1.29108310e-01,  1.29886532e+00,\n",
       "        -1.71003628e+00, -1.08086598e+00,  1.23505366e+00, -2.23802969e-01],\n",
       "       dtype=float32),\n",
       " (200,))"
      ]
     },
     "execution_count": 138,
     "metadata": {},
     "output_type": "execute_result"
    }
   ],
   "source": [
    "word2vec_kor['한국'],word2vec_kor['한국'].shape"
   ]
  },
  {
   "cell_type": "code",
   "execution_count": 125,
   "metadata": {},
   "outputs": [
    {
     "ename": "TypeError",
     "evalue": "object of type 'Word2Vec' has no len()",
     "output_type": "error",
     "traceback": [
      "\u001b[0;31m---------------------------------------------------------------------------\u001b[0m",
      "\u001b[0;31mTypeError\u001b[0m                                 Traceback (most recent call last)",
      "\u001b[0;32m<ipython-input-125-1c5595a21430>\u001b[0m in \u001b[0;36m<module>\u001b[0;34m\u001b[0m\n\u001b[1;32m      3\u001b[0m \u001b[0;34m\u001b[0m\u001b[0m\n\u001b[1;32m      4\u001b[0m \u001b[0mmodel\u001b[0m\u001b[0;34m.\u001b[0m\u001b[0madd\u001b[0m\u001b[0;34m(\u001b[0m\u001b[0mkeras\u001b[0m\u001b[0;34m.\u001b[0m\u001b[0mlayers\u001b[0m\u001b[0;34m.\u001b[0m\u001b[0mEmbedding\u001b[0m\u001b[0;34m(\u001b[0m\u001b[0mvocab_size\u001b[0m\u001b[0;34m,\u001b[0m \u001b[0mword_vector_dim\u001b[0m\u001b[0;34m,\u001b[0m \u001b[0minput_shape\u001b[0m\u001b[0;34m=\u001b[0m\u001b[0;34m(\u001b[0m\u001b[0;32mNone\u001b[0m\u001b[0;34m,\u001b[0m\u001b[0;34m)\u001b[0m\u001b[0;34m)\u001b[0m\u001b[0;34m)\u001b[0m\u001b[0;34m\u001b[0m\u001b[0;34m\u001b[0m\u001b[0m\n\u001b[0;32m----> 5\u001b[0;31m \u001b[0mmodel\u001b[0m\u001b[0;34m.\u001b[0m\u001b[0mset_weights\u001b[0m\u001b[0;34m(\u001b[0m\u001b[0mword2vec_kor\u001b[0m\u001b[0;34m)\u001b[0m\u001b[0;34m\u001b[0m\u001b[0;34m\u001b[0m\u001b[0m\n\u001b[0m\u001b[1;32m      6\u001b[0m \u001b[0mmodel\u001b[0m\u001b[0;34m.\u001b[0m\u001b[0madd\u001b[0m\u001b[0;34m(\u001b[0m\u001b[0mkeras\u001b[0m\u001b[0;34m.\u001b[0m\u001b[0mlayers\u001b[0m\u001b[0;34m.\u001b[0m\u001b[0mLSTM\u001b[0m\u001b[0;34m(\u001b[0m\u001b[0;36m8\u001b[0m\u001b[0;34m)\u001b[0m\u001b[0;34m)\u001b[0m   \u001b[0;31m# 가장 널리 쓰이는 RNN인 LSTM 레이어를 사용하였습니다. 이때 LSTM state 벡터의 차원수는 8로 하였습니다. (변경가능)\u001b[0m\u001b[0;34m\u001b[0m\u001b[0;34m\u001b[0m\u001b[0m\n\u001b[1;32m      7\u001b[0m \u001b[0mmodel\u001b[0m\u001b[0;34m.\u001b[0m\u001b[0madd\u001b[0m\u001b[0;34m(\u001b[0m\u001b[0mkeras\u001b[0m\u001b[0;34m.\u001b[0m\u001b[0mlayers\u001b[0m\u001b[0;34m.\u001b[0m\u001b[0mDense\u001b[0m\u001b[0;34m(\u001b[0m\u001b[0;36m8\u001b[0m\u001b[0;34m,\u001b[0m \u001b[0mactivation\u001b[0m\u001b[0;34m=\u001b[0m\u001b[0;34m'relu'\u001b[0m\u001b[0;34m)\u001b[0m\u001b[0;34m)\u001b[0m\u001b[0;34m\u001b[0m\u001b[0;34m\u001b[0m\u001b[0m\n",
      "\u001b[0;32m~/anaconda3/envs/aiffel/lib/python3.7/site-packages/tensorflow/python/keras/engine/base_layer.py\u001b[0m in \u001b[0;36mset_weights\u001b[0;34m(self, weights)\u001b[0m\n\u001b[1;32m   1517\u001b[0m         \u001b[0mexpected_num_weights\u001b[0m \u001b[0;34m+=\u001b[0m \u001b[0;36m1\u001b[0m\u001b[0;34m\u001b[0m\u001b[0;34m\u001b[0m\u001b[0m\n\u001b[1;32m   1518\u001b[0m \u001b[0;34m\u001b[0m\u001b[0m\n\u001b[0;32m-> 1519\u001b[0;31m     \u001b[0;32mif\u001b[0m \u001b[0mexpected_num_weights\u001b[0m \u001b[0;34m!=\u001b[0m \u001b[0mlen\u001b[0m\u001b[0;34m(\u001b[0m\u001b[0mweights\u001b[0m\u001b[0;34m)\u001b[0m\u001b[0;34m:\u001b[0m\u001b[0;34m\u001b[0m\u001b[0;34m\u001b[0m\u001b[0m\n\u001b[0m\u001b[1;32m   1520\u001b[0m       raise ValueError(\n\u001b[1;32m   1521\u001b[0m           \u001b[0;34m'You called `set_weights(weights)` on layer \"%s\" '\u001b[0m\u001b[0;34m\u001b[0m\u001b[0;34m\u001b[0m\u001b[0m\n",
      "\u001b[0;31mTypeError\u001b[0m: object of type 'Word2Vec' has no len()"
     ]
    }
   ],
   "source": [
    "model = keras.Sequential()\n",
    "\n",
    "\n",
    "model.add(keras.layers.Embedding(vocab_size, word_vector_dim, input_shape=(None,)))\n",
    "model.set_weights(word2vec_kor)\n",
    "model.add(keras.layers.LSTM(8))   # 가장 널리 쓰이는 RNN인 LSTM 레이어를 사용하였습니다. 이때 LSTM state 벡터의 차원수는 8로 하였습니다. (변경가능)\n",
    "model.add(keras.layers.Dense(8, activation='relu'))\n",
    "model.add(keras.layers.Dense(1, activation='sigmoid')) \n",
    "model.summary()"
   ]
  },
  {
   "cell_type": "code",
   "execution_count": null,
   "metadata": {},
   "outputs": [],
   "source": [
    "# model.compile(optimizer='adam',\n",
    "#               loss='binary_crossentropy',\n",
    "#               metrics=['accuracy'])\n",
    "\n",
    "# epochs = 10 # 몇 epoch훈련이 좋은가 결과보며 변경해보기\n",
    "# history = model.fit(x_train, y_train, epochs=epochs, batch_size=512,\n",
    "#                     validation_data=(x_val, y_val), verbose=1)"
   ]
  },
  {
   "cell_type": "code",
   "execution_count": null,
   "metadata": {},
   "outputs": [],
   "source": [
    "# results = model.evaluate(X_test_pad,  y_test, verbose=2)\n",
    "\n",
    "# print(results)"
   ]
  }
 ],
 "metadata": {
  "kernelspec": {
   "display_name": "Python 3",
   "language": "python",
   "name": "python3"
  },
  "language_info": {
   "codemirror_mode": {
    "name": "ipython",
    "version": 3
   },
   "file_extension": ".py",
   "mimetype": "text/x-python",
   "name": "python",
   "nbconvert_exporter": "python",
   "pygments_lexer": "ipython3",
   "version": "3.7.9"
  }
 },
 "nbformat": 4,
 "nbformat_minor": 4
}
